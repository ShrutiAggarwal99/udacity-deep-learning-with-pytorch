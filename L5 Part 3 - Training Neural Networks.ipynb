{
 "cells": [
  {
   "cell_type": "markdown",
   "metadata": {},
   "source": [
    "# Training Neural Networks"
   ]
  },
  {
   "cell_type": "code",
   "execution_count": 2,
   "metadata": {},
   "outputs": [],
   "source": [
    "import torch\n",
    "from torch import nn\n",
    "import torch.nn.functional as F\n",
    "from torchvision import datasets, transforms\n",
    "from collections import OrderedDict\n",
    "\n",
    "# Define a transform to normalize the data\n",
    "transform = transforms.Compose([transforms.ToTensor(),\n",
    "                                transforms.Normalize((0.5,), (0.5,)),\n",
    "                              ])\n",
    "# Download and load the training data\n",
    "trainset = datasets.MNIST('~/.pytorch/MNIST_data/', download=True, train=True, transform=transform)\n",
    "trainloader = torch.utils.data.DataLoader(trainset, batch_size=64, shuffle=True)"
   ]
  },
  {
   "cell_type": "code",
   "execution_count": 6,
   "metadata": {},
   "outputs": [],
   "source": [
    "# define the neural network\n",
    "model = nn.Sequential(OrderedDict([('fc1',nn.Linear(784,128)),('relu1',nn.ReLU()),\n",
    "                                  ('fc2',nn.Linear(128,64)),('relu2',nn.ReLU()),\n",
    "                                  ('out',nn.Linear(64,10))]))"
   ]
  },
  {
   "cell_type": "code",
   "execution_count": 12,
   "metadata": {},
   "outputs": [
    {
     "name": "stdout",
     "output_type": "stream",
     "text": [
      "tensor(2.3007, grad_fn=<NllLossBackward>)\n",
      "torch.Size([128, 784])\n",
      "torch.Size([64, 10])\n",
      "torch.Size([64])\n"
     ]
    }
   ],
   "source": [
    "# grab data\n",
    "dataiter = iter(trainloader)\n",
    "images, labels = dataiter.next()\n",
    "\n",
    "# flatten input images\n",
    "images = images.view(images.shape[0],-1)\n",
    "\n",
    "# forward pass\n",
    "logits = model(images)\n",
    "\n",
    "# loss function\n",
    "criterion = nn.CrossEntropyLoss() \n",
    "loss = criterion(logits,labels)\n",
    "\n",
    "print(loss)\n",
    "print(model.fc1.weight.shape)\n",
    "print(logits.shape)\n",
    "print(labels.shape)"
   ]
  },
  {
   "cell_type": "code",
   "execution_count": 15,
   "metadata": {},
   "outputs": [
    {
     "name": "stdout",
     "output_type": "stream",
     "text": [
      "torch.Size([128, 784])\n",
      "torch.Size([64, 128])\n",
      "torch.Size([10, 64])\n",
      "torch.Size([64, 10])\n"
     ]
    }
   ],
   "source": [
    "print(model.fc1.weight.shape)\n",
    "print(model.fc2.weight.shape)\n",
    "print(model.out.weight.shape)\n",
    "print(logits.shape)"
   ]
  },
  {
   "cell_type": "markdown",
   "metadata": {},
   "source": [
    " "
   ]
  },
  {
   "cell_type": "markdown",
   "metadata": {},
   "source": [
    ">**Exercise:** Build a model that returns the log-softmax as the output and calculate the loss using the negative log likelihood loss. Note that for `nn.LogSoftmax` and `F.log_softmax` you'll need to set the `dim` keyword argument appropriately. `dim=0` calculates softmax across the rows, so each column sums to 1, while `dim=1` calculates across the columns so each row sums to 1. Think about what you want the output to be and choose `dim` appropriately."
   ]
  },
  {
   "cell_type": "code",
   "execution_count": 21,
   "metadata": {},
   "outputs": [
    {
     "name": "stdout",
     "output_type": "stream",
     "text": [
      "tensor(2.3374, grad_fn=<NllLossBackward>)\n"
     ]
    }
   ],
   "source": [
    "# neural network model\n",
    "model = nn.Sequential(nn.Linear(784,128),nn.ReLU(),nn.Linear(128,64),nn.ReLU(),nn.Linear(64,10),nn.LogSoftmax(dim=1))\n",
    "\n",
    "# defining the loss function\n",
    "criterion = nn.NLLLoss()\n",
    "\n",
    "# data\n",
    "images,labels = next(dataiter)\n",
    "images = images.view(64,-1)\n",
    "\n",
    "# pass the input to the model and get logsoftmax (log-probabilities) output\n",
    "logps = model(images)\n",
    "\n",
    "# loss\n",
    "loss = criterion(logps,labels)\n",
    "\n",
    "print(loss)"
   ]
  },
  {
   "cell_type": "markdown",
   "metadata": {},
   "source": [
    " "
   ]
  },
  {
   "cell_type": "markdown",
   "metadata": {},
   "source": [
    "## Training for real\n",
    "\n",
    "Now we'll put this algorithm along with __backward pass__ and __optimizer__ into a loop so we can go through all the images. Some nomenclature, one pass through the entire dataset is called an *epoch*. So here we're going to loop through `trainloader` to get our training batches. For each batch, we'll doing a training pass where we calculate the loss, do a backwards pass, and update the weights.\n",
    "\n",
    ">**Exercise:** Implement the training pass for our network. If you implemented it correctly, you should see the training loss drop with each epoch."
   ]
  },
  {
   "cell_type": "code",
   "execution_count": 28,
   "metadata": {},
   "outputs": [
    {
     "name": "stdout",
     "output_type": "stream",
     "text": [
      "1.8763343231764429\n",
      "0.835599205482489\n",
      "0.5264765585758793\n",
      "0.43489593140352\n",
      "0.38980008542601235\n"
     ]
    }
   ],
   "source": [
    "from torch import optim\n",
    "\n",
    "# neural network model\n",
    "model = nn.Sequential(nn.Linear(784,128),\n",
    "                      nn.ReLU(),\n",
    "                      nn.Linear(128,64),\n",
    "                      nn.ReLU(),\n",
    "                      nn.Linear(64,10),\n",
    "                      nn.LogSoftmax(dim=1))\n",
    "\n",
    "# defining the loss function\n",
    "criterion = nn.NLLLoss()\n",
    "\n",
    "# optimizer\n",
    "optimizer = optim.SGD(model.parameters(), lr = 0.003)\n",
    "\n",
    "epochs = 5\n",
    "for e in range(epochs):\n",
    "    \n",
    "    running_loss = 0  # keeps track of loss over the entire dataset\n",
    "    \n",
    "    for images,labels in trainloader:\n",
    "        # image flattening\n",
    "        images = images.view(images.shape[0],-1)\n",
    "        \n",
    "        # Training pass\n",
    "        optimizer.zero_grad()   # because the gradient gets accumulated otherwise\n",
    "        \n",
    "        logps = model(images)   # forward pass\n",
    "        loss = criterion(logps,labels)   # loss calculation\n",
    "        loss.backward()   # backward pass : calculates the gradient of each model parameter w.r.t loss\n",
    "        optimizer.step()   # update the parameters\n",
    "        \n",
    "        running_loss += loss.item()\n",
    "      \n",
    "    print(running_loss/len(trainloader))  "
   ]
  },
  {
   "cell_type": "markdown",
   "metadata": {},
   "source": [
    "As we can see the loss decreases after every epoch, i.e. the network learns to make better predictions over the training data with each epoch."
   ]
  },
  {
   "cell_type": "markdown",
   "metadata": {},
   "source": [
    "### Checking predictions of the trained network!"
   ]
  },
  {
   "cell_type": "code",
   "execution_count": 36,
   "metadata": {},
   "outputs": [
    {
     "data": {
      "image/png": "[encoded data removed]",
      "text/plain": [
       "<Figure size 432x648 with 2 Axes>"
      ]
     },
     "metadata": {
      "needs_background": "light"
     },
     "output_type": "display_data"
    }
   ],
   "source": [
    "%matplotlib inline\n",
    "import helper\n",
    "\n",
    "images,labels = next(iter(trainloader))\n",
    "images = images.view(images.shape[0],1,-1)\n",
    "\n",
    "# Turn off gradients to speed up this part\n",
    "with torch.no_grad():\n",
    "    logps = model(images[0])\n",
    "    \n",
    "# for getting probabilities, we take exponent of the log-probabilities\n",
    "ps = torch.exp(logps)\n",
    "               \n",
    "helper.view_classify(images[0].view(1,28,28),ps)"
   ]
  },
  {
   "cell_type": "code",
   "execution_count": null,
   "metadata": {},
   "outputs": [],
   "source": []
  }
 ],
 "metadata": {
  "kernelspec": {
   "display_name": "Python 3",
   "language": "python",
   "name": "python3"
  },
  "language_info": {
   "codemirror_mode": {
    "name": "ipython",
    "version": 3
   },
   "file_extension": ".py",
   "mimetype": "text/x-python",
   "name": "python",
   "nbconvert_exporter": "python",
   "pygments_lexer": "ipython3",
   "version": "3.6.9"
  }
 },
 "nbformat": 4,
 "nbformat_minor": 2
}
