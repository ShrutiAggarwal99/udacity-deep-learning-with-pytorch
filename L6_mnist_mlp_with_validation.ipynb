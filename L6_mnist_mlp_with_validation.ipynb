{
  "nbformat": 4,
  "nbformat_minor": 0,
  "metadata": {
    "colab": {
      "name": "L6 mnist_mlp_with_validation.ipynb",
      "provenance": [],
      "collapsed_sections": [],
      "include_colab_link": true
    },
    "kernelspec": {
      "name": "python3",
      "display_name": "Python 3"
    },
    "accelerator": "GPU"
  },
  "cells": [
    {
      "cell_type": "markdown",
      "metadata": {
        "id": "view-in-github",
        "colab_type": "text"
      },
      "source": [
        "<a href=\"https://colab.research.google.com/github/ShrutiAggarwal99/udacity-deep-learning-with-pytorch/blob/master/L6_mnist_mlp_with_validation.ipynb\" target=\"_parent\"><img src=\"https://colab.research.google.com/assets/colab-badge.svg\" alt=\"Open In Colab\"/></a>"
      ]
    },
    {
      "cell_type": "code",
      "metadata": {
        "id": "YF8Hdql-jchh",
        "colab_type": "code",
        "colab": {}
      },
      "source": [
        "import torch\n",
        "from torchvision import datasets, transforms\n",
        "import numpy as np"
      ],
      "execution_count": 0,
      "outputs": []
    },
    {
      "cell_type": "code",
      "metadata": {
        "id": "EuLo9e4TkayK",
        "colab_type": "code",
        "colab": {
          "base_uri": "https://localhost:8080/",
          "height": 255
        },
        "outputId": "cd33c37a-659c-4968-c94e-8f01109e02f0"
      },
      "source": [
        "train_data = datasets.MNIST(root='data',train=True,transform=transforms.ToTensor(),download=True)\n",
        "test_data = datasets.MNIST(root='data',train=False,transform=transforms.ToTensor(),download=True)\n",
        "\n",
        "# training indices to be used for validation\n",
        "num_train = len(train_data)\n",
        "indices = list(range(num_train))\n",
        "np.random.shuffle(indices) # shuffle the indices\n",
        "valid_size = 0.2\n",
        "split = int(np.floor(valid_size*num_train))\n",
        "validation_indices, train_indices = indices[:split], indices[split:]\n",
        "\n",
        "train_sampler = torch.utils.data.sampler.SubsetRandomSampler(train_indices)\n",
        "validation_sampler = torch.utils.data.sampler.SubsetRandomSampler(validation_indices)\n",
        "\n",
        "train_loader = torch.utils.data.DataLoader(train_data, batch_size=64, sampler=train_sampler)\n",
        "validation_loader = torch.utils.data.DataLoader(train_data, batch_size=64, sampler=validation_sampler)\n",
        "test_loader = torch.utils.data.DataLoader(test_data, batch_size=64)"
      ],
      "execution_count": 2,
      "outputs": [
        {
          "output_type": "stream",
          "text": [
            "\r0it [00:00, ?it/s]"
          ],
          "name": "stderr"
        },
        {
          "output_type": "stream",
          "text": [
            "Downloading http://yann.lecun.com/exdb/mnist/train-images-idx3-ubyte.gz to data/MNIST/raw/train-images-idx3-ubyte.gz\n"
          ],
          "name": "stdout"
        },
        {
          "output_type": "stream",
          "text": [
            "9920512it [00:01, 9004823.86it/s]                            \n"
          ],
          "name": "stderr"
        },
        {
          "output_type": "stream",
          "text": [
            "Extracting data/MNIST/raw/train-images-idx3-ubyte.gz to data/MNIST/raw\n"
          ],
          "name": "stdout"
        },
        {
          "output_type": "stream",
          "text": [
            "  0%|          | 0/28881 [00:00<?, ?it/s]"
          ],
          "name": "stderr"
        },
        {
          "output_type": "stream",
          "text": [
            "Downloading http://yann.lecun.com/exdb/mnist/train-labels-idx1-ubyte.gz to data/MNIST/raw/train-labels-idx1-ubyte.gz\n"
          ],
          "name": "stdout"
        },
        {
          "output_type": "stream",
          "text": [
            "32768it [00:00, 121607.05it/s]           \n",
            "  0%|          | 0/1648877 [00:00<?, ?it/s]"
          ],
          "name": "stderr"
        },
        {
          "output_type": "stream",
          "text": [
            "Extracting data/MNIST/raw/train-labels-idx1-ubyte.gz to data/MNIST/raw\n",
            "Downloading http://yann.lecun.com/exdb/mnist/t10k-images-idx3-ubyte.gz to data/MNIST/raw/t10k-images-idx3-ubyte.gz\n"
          ],
          "name": "stdout"
        },
        {
          "output_type": "stream",
          "text": [
            "1654784it [00:00, 2001908.60it/s]                            \n",
            "0it [00:00, ?it/s]"
          ],
          "name": "stderr"
        },
        {
          "output_type": "stream",
          "text": [
            "Extracting data/MNIST/raw/t10k-images-idx3-ubyte.gz to data/MNIST/raw\n",
            "Downloading http://yann.lecun.com/exdb/mnist/t10k-labels-idx1-ubyte.gz to data/MNIST/raw/t10k-labels-idx1-ubyte.gz\n"
          ],
          "name": "stdout"
        },
        {
          "output_type": "stream",
          "text": [
            "8192it [00:00, 46590.17it/s]            \n"
          ],
          "name": "stderr"
        },
        {
          "output_type": "stream",
          "text": [
            "Extracting data/MNIST/raw/t10k-labels-idx1-ubyte.gz to data/MNIST/raw\n",
            "Processing...\n",
            "Done!\n"
          ],
          "name": "stdout"
        }
      ]
    },
    {
      "cell_type": "code",
      "metadata": {
        "id": "PJuUXC3Es5Bm",
        "colab_type": "code",
        "colab": {}
      },
      "source": [
        "import matplotlib.pyplot as plt\n",
        "%matplotlib inline"
      ],
      "execution_count": 0,
      "outputs": []
    },
    {
      "cell_type": "code",
      "metadata": {
        "id": "CpkUygS2qvyx",
        "colab_type": "code",
        "outputId": "c1b3eccd-3763-42b1-c755-b724ebd86d6c",
        "colab": {
          "base_uri": "https://localhost:8080/",
          "height": 301
        }
      },
      "source": [
        "# Visualising my data\n",
        "\n",
        "images, labels = next(iter(train_loader))\n",
        "\n",
        "images, labels = images.numpy(), labels.numpy()\n",
        "\n",
        "fig = plt.figure(figsize=(25,4))\n",
        "for idx in range(20):\n",
        "  ax = fig.add_subplot(2,10,idx+1)\n",
        "  ax.imshow(images[idx].squeeze(), cmap='gray')\n",
        "  ax.set_title(labels[idx])"
      ],
      "execution_count": 6,
      "outputs": [
        {
          "output_type": "display_data",
          "data": {
            "image/png": "[encoded data removed]",
            "text/plain": [
              "<Figure size 1800x288 with 20 Axes>"
            ]
          },
          "metadata": {
            "tags": []
          }
        }
      ]
    },
    {
      "cell_type": "code",
      "metadata": {
        "id": "HshLEt5B0eO2",
        "colab_type": "code",
        "colab": {}
      },
      "source": [
        "from torch import nn, optim\n",
        "import torch.nn.functional as F"
      ],
      "execution_count": 0,
      "outputs": []
    },
    {
      "cell_type": "code",
      "metadata": {
        "id": "ux8oOZVDtZj-",
        "colab_type": "code",
        "outputId": "99d6c302-8971-4484-ff66-995173a51724",
        "colab": {
          "base_uri": "https://localhost:8080/",
          "height": 119
        }
      },
      "source": [
        "class Network(nn.Module):\n",
        "  def __init__(self):\n",
        "    super().__init__()\n",
        "    self.fc1 = nn.Linear(28*28,512)\n",
        "    self.fc2 = nn.Linear(512,512)\n",
        "    self.fc3 = nn.Linear(512,10)\n",
        "    self.dropout = nn.Dropout(p=0.2)\n",
        "\n",
        "  def forward(self,x):\n",
        "    x = x.view(x.shape[0],-1)\n",
        "    x = self.dropout(F.relu(self.fc1(x)))\n",
        "    x = self.dropout(F.relu(self.fc2(x)))\n",
        "    x = F.log_softmax(self.fc3(x),dim=1)\n",
        "\n",
        "    return x\n",
        "\n",
        "# Initialise the NN\n",
        "classifier = Network()\n",
        "print(classifier)"
      ],
      "execution_count": 19,
      "outputs": [
        {
          "output_type": "stream",
          "text": [
            "Network(\n",
            "  (fc1): Linear(in_features=784, out_features=512, bias=True)\n",
            "  (fc2): Linear(in_features=512, out_features=512, bias=True)\n",
            "  (fc3): Linear(in_features=512, out_features=10, bias=True)\n",
            "  (dropout): Dropout(p=0.2, inplace=False)\n",
            ")\n"
          ],
          "name": "stdout"
        }
      ]
    },
    {
      "cell_type": "code",
      "metadata": {
        "id": "76HE12l91jP9",
        "colab_type": "code",
        "outputId": "e6bf24ef-f5c6-4b0e-cb6b-40d246d3687d",
        "colab": {
          "base_uri": "https://localhost:8080/",
          "height": 34
        }
      },
      "source": [
        "device = torch.device('cuda' if torch.cuda.is_available() else 'cpu')\n",
        "\n",
        "classifier.to(device)\n",
        "\n",
        "print(next(classifier.parameters()).is_cuda)"
      ],
      "execution_count": 20,
      "outputs": [
        {
          "output_type": "stream",
          "text": [
            "True\n"
          ],
          "name": "stdout"
        }
      ]
    },
    {
      "cell_type": "code",
      "metadata": {
        "id": "33c-vpNY11gi",
        "colab_type": "code",
        "outputId": "7fbed3a7-4415-4578-e2ab-a6bb3d46ed5b",
        "colab": {
          "base_uri": "https://localhost:8080/",
          "height": 1000
        }
      },
      "source": [
        "criterion = nn.NLLLoss()\n",
        "optimizer = optim.SGD(classifier.parameters(),lr = 0.01)\n",
        "\n",
        "epochs = 75\n",
        "\n",
        "min_valid_loss = np.Infinity\n",
        "\n",
        "for e in range(epochs):\n",
        "  train_loss = 0\n",
        "  # training\n",
        "  for images, labels in train_loader:\n",
        "    images, labels = images.to(device), labels.to(device)\n",
        "\n",
        "    log_ps = classifier(images)\n",
        "    loss = criterion(log_ps,labels)\n",
        "    train_loss += loss.item()*images.shape[0]\n",
        "    optimizer.zero_grad()\n",
        "    loss.backward()\n",
        "    optimizer.step()\n",
        "\n",
        "  # validation\n",
        "  valid_accuracy = 0\n",
        "  valid_loss = 0\n",
        "  with torch.no_grad():\n",
        "    classifier.eval()\n",
        "    for images, labels in validation_loader:\n",
        "      images, labels = images.to(device), labels.to(device)\n",
        "\n",
        "      log_ps = classifier(images)\n",
        "      valid_loss += criterion(log_ps,labels).item()*images.shape[0]\n",
        "\n",
        "      ps = torch.exp(log_ps)\n",
        "      top_p, top_class = ps.topk(k=1,dim=1)\n",
        "      equals = top_class == labels.view(*top_class.shape)\n",
        "      valid_accuracy += torch.mean(equals.type(torch.FloatTensor))*images.shape[0]\n",
        "    classifier.train()\n",
        "\n",
        "  print(\"Epoch: \", e+1,\n",
        "      \"Training Loss:\", train_loss/len(train_loader.sampler),\n",
        "      \"Validation Loss:\", valid_loss/len(validation_loader.sampler),\n",
        "      \"Accuracy:\", valid_accuracy/len(validation_loader.sampler))\n",
        "     \n",
        "  if valid_loss < min_valid_loss:\n",
        "    torch.save({'state_dict': classifier.state_dict()}, 'checkpoint.pth.tar')\n",
        "    min_valid_loss = valid_loss\n",
        "    print(\"Validation Loss decreased, model saved!\")"
      ],
      "execution_count": 21,
      "outputs": [
        {
          "output_type": "stream",
          "text": [
            "Epoch:  1 Training Loss: 1.8030532162189483 Validation Loss: 0.9057743317286173 Accuracy: tensor(0.7963)\n",
            "Validation Loss decreased, model saved!\n",
            "Epoch:  2 Training Loss: 0.6635736306508382 Validation Loss: 0.4688120195070902 Accuracy: tensor(0.8757)\n",
            "Validation Loss decreased, model saved!\n",
            "Epoch:  3 Training Loss: 0.45907430720329284 Validation Loss: 0.37965463105837505 Accuracy: tensor(0.8939)\n",
            "Validation Loss decreased, model saved!\n",
            "Epoch:  4 Training Loss: 0.3923823727965355 Validation Loss: 0.33949967082341515 Accuracy: tensor(0.9038)\n",
            "Validation Loss decreased, model saved!\n",
            "Epoch:  5 Training Loss: 0.35492633636792503 Validation Loss: 0.3119100158214569 Accuracy: tensor(0.9098)\n",
            "Validation Loss decreased, model saved!\n",
            "Epoch:  6 Training Loss: 0.32614752393960955 Validation Loss: 0.2913393006324768 Accuracy: tensor(0.9180)\n",
            "Validation Loss decreased, model saved!\n",
            "Epoch:  7 Training Loss: 0.303172276198864 Validation Loss: 0.27169174774487814 Accuracy: tensor(0.9227)\n",
            "Validation Loss decreased, model saved!\n",
            "Epoch:  8 Training Loss: 0.2820599995354811 Validation Loss: 0.2566598308086395 Accuracy: tensor(0.9261)\n",
            "Validation Loss decreased, model saved!\n",
            "Epoch:  9 Training Loss: 0.26448588143785795 Validation Loss: 0.24244314606984457 Accuracy: tensor(0.9302)\n",
            "Validation Loss decreased, model saved!\n",
            "Epoch:  10 Training Loss: 0.24846987119317054 Validation Loss: 0.22786744767427444 Accuracy: tensor(0.9347)\n",
            "Validation Loss decreased, model saved!\n",
            "Epoch:  11 Training Loss: 0.23464779070019723 Validation Loss: 0.2161878616809845 Accuracy: tensor(0.9377)\n",
            "Validation Loss decreased, model saved!\n",
            "Epoch:  12 Training Loss: 0.22179504798352717 Validation Loss: 0.20678702020645143 Accuracy: tensor(0.9411)\n",
            "Validation Loss decreased, model saved!\n",
            "Epoch:  13 Training Loss: 0.21016147165497143 Validation Loss: 0.19689146248499553 Accuracy: tensor(0.9430)\n",
            "Validation Loss decreased, model saved!\n",
            "Epoch:  14 Training Loss: 0.1999561552206675 Validation Loss: 0.18783837900559108 Accuracy: tensor(0.9463)\n",
            "Validation Loss decreased, model saved!\n",
            "Epoch:  15 Training Loss: 0.18971725686391194 Validation Loss: 0.1799605342745781 Accuracy: tensor(0.9478)\n",
            "Validation Loss decreased, model saved!\n",
            "Epoch:  16 Training Loss: 0.18237173613905908 Validation Loss: 0.17215362167358397 Accuracy: tensor(0.9500)\n",
            "Validation Loss decreased, model saved!\n",
            "Epoch:  17 Training Loss: 0.1737029222448667 Validation Loss: 0.16606620808442435 Accuracy: tensor(0.9516)\n",
            "Validation Loss decreased, model saved!\n",
            "Epoch:  18 Training Loss: 0.16699673283596833 Validation Loss: 0.15956388755639395 Accuracy: tensor(0.9527)\n",
            "Validation Loss decreased, model saved!\n",
            "Epoch:  19 Training Loss: 0.159182198608915 Validation Loss: 0.15645870105425516 Accuracy: tensor(0.9528)\n",
            "Validation Loss decreased, model saved!\n",
            "Epoch:  20 Training Loss: 0.1535590643286705 Validation Loss: 0.14886033888657887 Accuracy: tensor(0.9551)\n",
            "Validation Loss decreased, model saved!\n",
            "Epoch:  21 Training Loss: 0.14844266908864182 Validation Loss: 0.14556498297055562 Accuracy: tensor(0.9567)\n",
            "Validation Loss decreased, model saved!\n",
            "Epoch:  22 Training Loss: 0.14216210492451986 Validation Loss: 0.13981694994370142 Accuracy: tensor(0.9570)\n",
            "Validation Loss decreased, model saved!\n",
            "Epoch:  23 Training Loss: 0.1363417300581932 Validation Loss: 0.1374722216327985 Accuracy: tensor(0.9585)\n",
            "Validation Loss decreased, model saved!\n",
            "Epoch:  24 Training Loss: 0.13259767510990303 Validation Loss: 0.1318355606595675 Accuracy: tensor(0.9595)\n",
            "Validation Loss decreased, model saved!\n",
            "Epoch:  25 Training Loss: 0.12700750400622685 Validation Loss: 0.1295022579828898 Accuracy: tensor(0.9607)\n",
            "Validation Loss decreased, model saved!\n",
            "Epoch:  26 Training Loss: 0.12280529628694058 Validation Loss: 0.12615342086553574 Accuracy: tensor(0.9618)\n",
            "Validation Loss decreased, model saved!\n",
            "Epoch:  27 Training Loss: 0.11930878050128618 Validation Loss: 0.12233910348018011 Accuracy: tensor(0.9623)\n",
            "Validation Loss decreased, model saved!\n",
            "Epoch:  28 Training Loss: 0.11570331883927186 Validation Loss: 0.11956279005606969 Accuracy: tensor(0.9631)\n",
            "Validation Loss decreased, model saved!\n",
            "Epoch:  29 Training Loss: 0.11195711363355319 Validation Loss: 0.11643294916550319 Accuracy: tensor(0.9639)\n",
            "Validation Loss decreased, model saved!\n",
            "Epoch:  30 Training Loss: 0.10816269166767598 Validation Loss: 0.11402035886049271 Accuracy: tensor(0.9652)\n",
            "Validation Loss decreased, model saved!\n",
            "Epoch:  31 Training Loss: 0.10607288095355034 Validation Loss: 0.11192843115329743 Accuracy: tensor(0.9663)\n",
            "Validation Loss decreased, model saved!\n",
            "Epoch:  32 Training Loss: 0.10128423695762952 Validation Loss: 0.10980680600802104 Accuracy: tensor(0.9668)\n",
            "Validation Loss decreased, model saved!\n",
            "Epoch:  33 Training Loss: 0.09850597812235355 Validation Loss: 0.10762857156991959 Accuracy: tensor(0.9672)\n",
            "Validation Loss decreased, model saved!\n",
            "Epoch:  34 Training Loss: 0.09733070969084899 Validation Loss: 0.1050210175315539 Accuracy: tensor(0.9684)\n",
            "Validation Loss decreased, model saved!\n",
            "Epoch:  35 Training Loss: 0.093288183833162 Validation Loss: 0.10368384426832199 Accuracy: tensor(0.9687)\n",
            "Validation Loss decreased, model saved!\n",
            "Epoch:  36 Training Loss: 0.0924258517374595 Validation Loss: 0.10192876509825388 Accuracy: tensor(0.9691)\n",
            "Validation Loss decreased, model saved!\n",
            "Epoch:  37 Training Loss: 0.08884866020580133 Validation Loss: 0.0997638824780782 Accuracy: tensor(0.9693)\n",
            "Validation Loss decreased, model saved!\n",
            "Epoch:  38 Training Loss: 0.08552426145970822 Validation Loss: 0.09912506127357483 Accuracy: tensor(0.9697)\n",
            "Validation Loss decreased, model saved!\n",
            "Epoch:  39 Training Loss: 0.08630195226271947 Validation Loss: 0.09725400225321452 Accuracy: tensor(0.9709)\n",
            "Validation Loss decreased, model saved!\n",
            "Epoch:  40 Training Loss: 0.0829602720340093 Validation Loss: 0.09559514751036961 Accuracy: tensor(0.9706)\n",
            "Validation Loss decreased, model saved!\n",
            "Epoch:  41 Training Loss: 0.08008946318427722 Validation Loss: 0.0943021871248881 Accuracy: tensor(0.9708)\n",
            "Validation Loss decreased, model saved!\n",
            "Epoch:  42 Training Loss: 0.07767269381384055 Validation Loss: 0.09292457441488902 Accuracy: tensor(0.9715)\n",
            "Validation Loss decreased, model saved!\n",
            "Epoch:  43 Training Loss: 0.0777220586190621 Validation Loss: 0.09144458224376042 Accuracy: tensor(0.9712)\n",
            "Validation Loss decreased, model saved!\n",
            "Epoch:  44 Training Loss: 0.07300998592376709 Validation Loss: 0.0907097486058871 Accuracy: tensor(0.9722)\n",
            "Validation Loss decreased, model saved!\n",
            "Epoch:  45 Training Loss: 0.07230190389851729 Validation Loss: 0.08899732035398483 Accuracy: tensor(0.9731)\n",
            "Validation Loss decreased, model saved!\n",
            "Epoch:  46 Training Loss: 0.07142242749035359 Validation Loss: 0.08799364519119263 Accuracy: tensor(0.9731)\n",
            "Validation Loss decreased, model saved!\n",
            "Epoch:  47 Training Loss: 0.06923765980203947 Validation Loss: 0.08740696762005488 Accuracy: tensor(0.9733)\n",
            "Validation Loss decreased, model saved!\n",
            "Epoch:  48 Training Loss: 0.06846095731357733 Validation Loss: 0.0862537186940511 Accuracy: tensor(0.9737)\n",
            "Validation Loss decreased, model saved!\n",
            "Epoch:  49 Training Loss: 0.06704112093647321 Validation Loss: 0.08484256303310395 Accuracy: tensor(0.9736)\n",
            "Validation Loss decreased, model saved!\n",
            "Epoch:  50 Training Loss: 0.06386713315049808 Validation Loss: 0.08428769232829411 Accuracy: tensor(0.9742)\n",
            "Validation Loss decreased, model saved!\n",
            "Epoch:  51 Training Loss: 0.061816406135757763 Validation Loss: 0.08392746633291244 Accuracy: tensor(0.9735)\n",
            "Validation Loss decreased, model saved!\n",
            "Epoch:  52 Training Loss: 0.06267335979640484 Validation Loss: 0.0828697704076767 Accuracy: tensor(0.9746)\n",
            "Validation Loss decreased, model saved!\n",
            "Epoch:  53 Training Loss: 0.06068505464990934 Validation Loss: 0.0818200301428636 Accuracy: tensor(0.9752)\n",
            "Validation Loss decreased, model saved!\n",
            "Epoch:  54 Training Loss: 0.059123736639817556 Validation Loss: 0.08088040699561437 Accuracy: tensor(0.9748)\n",
            "Validation Loss decreased, model saved!\n",
            "Epoch:  55 Training Loss: 0.05867701767385006 Validation Loss: 0.081013308207194 Accuracy: tensor(0.9749)\n",
            "Epoch:  56 Training Loss: 0.05649117596944173 Validation Loss: 0.08001613291104634 Accuracy: tensor(0.9757)\n",
            "Validation Loss decreased, model saved!\n",
            "Epoch:  57 Training Loss: 0.0551756117294232 Validation Loss: 0.07928661694129308 Accuracy: tensor(0.9756)\n",
            "Validation Loss decreased, model saved!\n",
            "Epoch:  58 Training Loss: 0.05438569074869156 Validation Loss: 0.07813703159491221 Accuracy: tensor(0.9758)\n",
            "Validation Loss decreased, model saved!\n",
            "Epoch:  59 Training Loss: 0.053379444018006324 Validation Loss: 0.07831027362744014 Accuracy: tensor(0.9760)\n",
            "Epoch:  60 Training Loss: 0.05309907163182894 Validation Loss: 0.07725725466012955 Accuracy: tensor(0.9763)\n",
            "Validation Loss decreased, model saved!\n",
            "Epoch:  61 Training Loss: 0.05107801320652167 Validation Loss: 0.07651737550894419 Accuracy: tensor(0.9768)\n",
            "Validation Loss decreased, model saved!\n",
            "Epoch:  62 Training Loss: 0.04940828096369902 Validation Loss: 0.07607691707213719 Accuracy: tensor(0.9768)\n",
            "Validation Loss decreased, model saved!\n",
            "Epoch:  63 Training Loss: 0.04956987479825815 Validation Loss: 0.07534190156062444 Accuracy: tensor(0.9772)\n",
            "Validation Loss decreased, model saved!\n",
            "Epoch:  64 Training Loss: 0.04804940010110537 Validation Loss: 0.07472475121418636 Accuracy: tensor(0.9772)\n",
            "Validation Loss decreased, model saved!\n",
            "Epoch:  65 Training Loss: 0.046435900285840034 Validation Loss: 0.07441558945178986 Accuracy: tensor(0.9772)\n",
            "Validation Loss decreased, model saved!\n",
            "Epoch:  66 Training Loss: 0.04591167913377285 Validation Loss: 0.07469206448396047 Accuracy: tensor(0.9769)\n",
            "Epoch:  67 Training Loss: 0.04554033646980921 Validation Loss: 0.07342097443342209 Accuracy: tensor(0.9777)\n",
            "Validation Loss decreased, model saved!\n",
            "Epoch:  68 Training Loss: 0.04435436329245567 Validation Loss: 0.07323736131191254 Accuracy: tensor(0.9777)\n",
            "Validation Loss decreased, model saved!\n",
            "Epoch:  69 Training Loss: 0.04478638559579849 Validation Loss: 0.07330291418234507 Accuracy: tensor(0.9774)\n",
            "Epoch:  70 Training Loss: 0.043410474374890325 Validation Loss: 0.07204458334048588 Accuracy: tensor(0.9780)\n",
            "Validation Loss decreased, model saved!\n",
            "Epoch:  71 Training Loss: 0.0420731740569075 Validation Loss: 0.07265082689126333 Accuracy: tensor(0.9779)\n",
            "Epoch:  72 Training Loss: 0.041269388509293396 Validation Loss: 0.07236563595136007 Accuracy: tensor(0.9779)\n",
            "Epoch:  73 Training Loss: 0.040504690113166965 Validation Loss: 0.07152766821781795 Accuracy: tensor(0.9781)\n",
            "Validation Loss decreased, model saved!\n",
            "Epoch:  74 Training Loss: 0.039075735663374266 Validation Loss: 0.07161338552832604 Accuracy: tensor(0.9785)\n",
            "Epoch:  75 Training Loss: 0.03813966551423073 Validation Loss: 0.07183253985643387 Accuracy: tensor(0.9780)\n"
          ],
          "name": "stdout"
        }
      ]
    },
    {
      "cell_type": "code",
      "metadata": {
        "id": "SLpRWETP5Kwg",
        "colab_type": "code",
        "colab": {
          "base_uri": "https://localhost:8080/",
          "height": 34
        },
        "outputId": "7a52122c-4472-491f-c5d3-03a92830e083"
      },
      "source": [
        "checkpoint = torch.load('checkpoint.pth.tar')\n",
        "classifier.load_state_dict(checkpoint['state_dict'])"
      ],
      "execution_count": 22,
      "outputs": [
        {
          "output_type": "execute_result",
          "data": {
            "text/plain": [
              "<All keys matched successfully>"
            ]
          },
          "metadata": {
            "tags": []
          },
          "execution_count": 22
        }
      ]
    },
    {
      "cell_type": "code",
      "metadata": {
        "id": "147OLdswEVeV",
        "colab_type": "code",
        "colab": {
          "base_uri": "https://localhost:8080/",
          "height": 34
        },
        "outputId": "c992dcb5-991c-4284-bba4-6af81af3092b"
      },
      "source": [
        "# test he model (saved with least validation loss)\n",
        "\n",
        "test_loss = 0\n",
        "accuracy = 0\n",
        "for images, labels in test_loader:\n",
        "  images, labels = images.to(device), labels.to(device)\n",
        "  log_ps = classifier(images)\n",
        "  loss = criterion(log_ps, labels)\n",
        "  test_loss += loss.item()*images.shape[0]\n",
        "  ps = torch.exp(log_ps)\n",
        "  top_p, top_class = ps.topk(k=1,dim=1)\n",
        "  equality = top_class == labels.view(*top_class.shape)\n",
        "  accuracy += torch.mean(equality.type(torch.FloatTensor))*images.shape[0]\n",
        "\n",
        "print(\"Test Loss: \", test_loss/len(test_loader.dataset),\n",
        "        \"Test Accuracy: \", accuracy/len(test_loader.dataset))"
      ],
      "execution_count": 27,
      "outputs": [
        {
          "output_type": "stream",
          "text": [
            "Test Loss:  0.07839999163150788 Test Accuracy:  tensor(0.9754)\n"
          ],
          "name": "stdout"
        }
      ]
    },
    {
      "cell_type": "code",
      "metadata": {
        "id": "LVZCtCZAFyxW",
        "colab_type": "code",
        "colab": {
          "base_uri": "https://localhost:8080/",
          "height": 586
        },
        "outputId": "b359b08a-95b1-49b9-e7bf-7b891120f0f8"
      },
      "source": [
        "# Visualise the results on test data\n",
        "\n",
        "images, labels = next(iter(test_loader))\n",
        "\n",
        "images, labels = images.to(device), labels.to(device)\n",
        "\n",
        "log_ps = classifier(images)\n",
        "ps = torch.exp(log_ps)\n",
        "\n",
        "top_p, top_class = ps.topk(k=1, dim=1)\n",
        "\n",
        "images, labels = images.to('cpu').numpy(), labels.to('cpu').numpy()\n",
        "top_class = top_class.to('cpu').numpy()\n",
        "\n",
        "fig = plt.figure(figsize=(25,10))\n",
        "for i in range(30):\n",
        "  ax = fig.add_subplot(3,10,i+1)\n",
        "  ax.imshow(images[i].squeeze(), cmap='gray')\n",
        "  ax.set_title(\"{} ({})\".format(str(labels[i]), str(top_class[i])),color=(\"green\" if top_class[i]==labels[i] else \"red\"))"
      ],
      "execution_count": 49,
      "outputs": [
        {
          "output_type": "display_data",
          "data": {
            "image/png": "[encoded data removed]",
            "text/plain": [
              "<Figure size 1800x720 with 30 Axes>"
            ]
          },
          "metadata": {
            "tags": []
          }
        }
      ]
    },
    {
      "cell_type": "code",
      "metadata": {
        "id": "pfdI_2WdKD1w",
        "colab_type": "code",
        "colab": {}
      },
      "source": [
        ""
      ],
      "execution_count": 0,
      "outputs": []
    }
  ]
}