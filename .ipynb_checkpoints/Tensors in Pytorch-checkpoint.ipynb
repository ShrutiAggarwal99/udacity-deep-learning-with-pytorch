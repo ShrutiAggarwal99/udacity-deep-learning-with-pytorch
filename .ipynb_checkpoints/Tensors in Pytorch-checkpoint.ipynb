{
 "cells": [
  {
   "cell_type": "code",
   "execution_count": 1,
   "metadata": {},
   "outputs": [],
   "source": [
    "import torch"
   ]
  },
  {
   "cell_type": "code",
   "execution_count": 2,
   "metadata": {},
   "outputs": [],
   "source": [
    "def activation(x):\n",
    "    return 1/(1+torch.exp(-x))"
   ]
  },
  {
   "cell_type": "code",
   "execution_count": 5,
   "metadata": {},
   "outputs": [],
   "source": [
    "features = torch.randn(1,5)\n",
    "weights = torch.randn_like(features)\n",
    "bias = torch.randn(1,1)"
   ]
  },
  {
   "cell_type": "code",
   "execution_count": 6,
   "metadata": {},
   "outputs": [
    {
     "name": "stdout",
     "output_type": "stream",
     "text": [
      "tensor([[0.4124]])\n",
      "tensor([[0.4124]])\n"
     ]
    }
   ],
   "source": [
    "# Output using element wise multiplication of tensors\n",
    "y = (weights*features).sum()+bias\n",
    "y = activation(y)\n",
    "print(y)\n",
    "\n",
    "y = torch.sum(weights*features)+bias\n",
    "y = activation(y)\n",
    "print(y)"
   ]
  },
  {
   "cell_type": "code",
   "execution_count": 11,
   "metadata": {},
   "outputs": [
    {
     "name": "stdout",
     "output_type": "stream",
     "text": [
      "tensor([[0.4124]])\n"
     ]
    }
   ],
   "source": [
    "# Output using Matrix Multiplication of tensors\n",
    "weights = weights.view(5,1)\n",
    "\n",
    "# Now features : (1,5) and weights : (5,1)\n",
    "# output of torch.matmul(features,weights) : (1,1)\n",
    "y = torch.matmul(features,weights)+bias\n",
    "y = activation(y)\n",
    "\n",
    "print(y)"
   ]
  },
  {
   "cell_type": "markdown",
   "metadata": {},
   "source": [
    "# Tensors and Storage"
   ]
  },
  {
   "cell_type": "code",
   "execution_count": 41,
   "metadata": {},
   "outputs": [],
   "source": [
    "# A tensor is a view of it's 1-D storage\n",
    "# Has storage_offset, shape(size) and stride properties"
   ]
  },
  {
   "cell_type": "code",
   "execution_count": 25,
   "metadata": {},
   "outputs": [
    {
     "name": "stdout",
     "output_type": "stream",
     "text": [
      "tensor([[1, 2],\n",
      "        [3, 4],\n",
      "        [5, 6]])\n",
      "Storage Offset : 0\n",
      "Shape : torch.Size([3, 2])\n",
      "Stride : (2, 1)\n",
      "Storage :\n",
      "  1\n",
      " 2\n",
      " 3\n",
      " 4\n",
      " 5\n",
      " 6\n",
      "[torch.LongStorage of size 6]\n"
     ]
    }
   ],
   "source": [
    "points = torch.tensor([[1,2],[3,4],[5,6]])\n",
    "print(points)\n",
    "print(\"Storage Offset :\", points.storage_offset())\n",
    "print(\"Shape :\", points.shape)\n",
    "print(\"Stride :\", points.stride())\n",
    "print(\"Storage :\\n\", points.storage())"
   ]
  },
  {
   "cell_type": "code",
   "execution_count": 27,
   "metadata": {},
   "outputs": [
    {
     "name": "stdout",
     "output_type": "stream",
     "text": [
      "tensor([[1, 3, 5],\n",
      "        [2, 4, 6]])\n",
      "Storage Offset : 0\n",
      "Shape : torch.Size([2, 3])\n",
      "Stride : (1, 2)\n",
      "Storage :\n",
      "  1\n",
      " 2\n",
      " 3\n",
      " 4\n",
      " 5\n",
      " 6\n",
      "[torch.LongStorage of size 6]\n"
     ]
    }
   ],
   "source": [
    "points_t = points.transpose(0,1) # or points.t() or points.transpose()\n",
    "print(points_t)\n",
    "print(\"Storage Offset :\", points_t.storage_offset())\n",
    "print(\"Shape :\", points_t.shape)\n",
    "print(\"Stride :\", points_t.stride())\n",
    "print(\"Storage :\\n\", points_t.storage())\n",
    "\n",
    "# Stride of the tensor and it's transpose - get reversed (of the dimensions along which the transpose is applied)"
   ]
  },
  {
   "cell_type": "code",
   "execution_count": 28,
   "metadata": {},
   "outputs": [],
   "source": [
    "# A tensor, it's transpose, it's subtensor : all refer to the same storage"
   ]
  },
  {
   "cell_type": "code",
   "execution_count": 31,
   "metadata": {},
   "outputs": [
    {
     "name": "stdout",
     "output_type": "stream",
     "text": [
      "True\n",
      "False\n"
     ]
    }
   ],
   "source": [
    "print(points.is_contiguous())   \n",
    "print(points_t.is_contiguous())   # Since stride of the rightmost dimension is not 1"
   ]
  },
  {
   "cell_type": "code",
   "execution_count": 38,
   "metadata": {},
   "outputs": [
    {
     "name": "stdout",
     "output_type": "stream",
     "text": [
      "tensor([[1, 3, 5],\n",
      "        [2, 4, 6]])\n",
      "Storage Offset : 0\n",
      "Shape : torch.Size([2, 3])\n",
      "Stride : (3, 1)\n",
      "Storage :\n",
      "  1\n",
      " 3\n",
      " 5\n",
      " 2\n",
      " 4\n",
      " 6\n",
      "[torch.LongStorage of size 6]\n",
      "True\n"
     ]
    }
   ],
   "source": [
    "# To get a contiguous tensor from a non-contiguous tensor (happens by reshuffling the original storage)\n",
    "points_t_cont = points_t.contiguous()\n",
    "print(points_t_cont)\n",
    "print(\"Storage Offset :\", points_t_cont.storage_offset())\n",
    "print(\"Shape :\", points_t_cont.shape)\n",
    "print(\"Stride :\", points_t_cont.stride())  # Different from points_t tensor (since the storage is reshuffled)\n",
    "print(\"Storage :\\n\", points_t_cont.storage())\n",
    "print(id(points_t_cont.storage()) == id(points_t.storage()))  # Reshuffles the same storage"
   ]
  },
  {
   "cell_type": "code",
   "execution_count": 40,
   "metadata": {},
   "outputs": [
    {
     "name": "stdout",
     "output_type": "stream",
     "text": [
      "False\n",
      "(1, 2)\n"
     ]
    }
   ],
   "source": [
    "print(points_t.is_contiguous())  # Now this becomes non-contiguous\n",
    "print(points_t.stride())"
   ]
  },
  {
   "cell_type": "code",
   "execution_count": null,
   "metadata": {},
   "outputs": [],
   "source": []
  }
 ],
 "metadata": {
  "kernelspec": {
   "display_name": "Python 3",
   "language": "python",
   "name": "python3"
  },
  "language_info": {
   "codemirror_mode": {
    "name": "ipython",
    "version": 3
   },
   "file_extension": ".py",
   "mimetype": "text/x-python",
   "name": "python",
   "nbconvert_exporter": "python",
   "pygments_lexer": "ipython3",
   "version": "3.6.9"
  }
 },
 "nbformat": 4,
 "nbformat_minor": 2
}
