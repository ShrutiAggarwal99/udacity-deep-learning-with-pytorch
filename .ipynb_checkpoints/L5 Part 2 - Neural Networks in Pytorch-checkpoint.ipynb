{
 "cells": [
  {
   "cell_type": "markdown",
   "metadata": {},
   "source": [
    "# Neural networks with PyTorch"
   ]
  },
  {
   "cell_type": "code",
   "execution_count": 1,
   "metadata": {},
   "outputs": [],
   "source": [
    "# Import necessary packages\n",
    "\n",
    "%matplotlib inline\n",
    "%config InlineBackend.figure_format = 'retina'\n",
    "\n",
    "import numpy as np\n",
    "import torch\n",
    "\n",
    "import helper\n",
    "\n",
    "import matplotlib.pyplot as plt"
   ]
  },
  {
   "cell_type": "code",
   "execution_count": 3,
   "metadata": {},
   "outputs": [],
   "source": [
    "### Run this cell\n",
    "\n",
    "from torchvision import datasets, transforms\n",
    "\n",
    "# Define a transform to normalize the data\n",
    "transform = transforms.Compose([transforms.ToTensor(),\n",
    "                              transforms.Normalize((0.5,), (0.5,)),\n",
    "                              ])\n",
    "\n",
    "# Download and load the training data\n",
    "trainset = datasets.MNIST('~/.pytorch/MNIST_data/', download=True, train=True, transform=transform)\n",
    "trainloader = torch.utils.data.DataLoader(trainset, batch_size=64, shuffle=True)\n",
    "# notice batch_size"
   ]
  },
  {
   "cell_type": "code",
   "execution_count": 4,
   "metadata": {},
   "outputs": [
    {
     "name": "stdout",
     "output_type": "stream",
     "text": [
      "torch.Size([64, 1, 28, 28])\n",
      "torch.Size([64])\n",
      "tensor([4, 5, 5, 5, 0, 3, 9, 1, 0, 7, 8, 8, 7, 7, 6, 0, 2, 0, 6, 7, 2, 1, 3, 4,\n",
      "        0, 7, 5, 8, 8, 2, 1, 3, 7, 3, 2, 2, 1, 2, 5, 8, 2, 3, 1, 1, 1, 6, 1, 2,\n",
      "        5, 8, 0, 2, 6, 8, 5, 3, 3, 9, 0, 6, 1, 6, 0, 1])\n"
     ]
    }
   ],
   "source": [
    "dataiter = iter(trainloader)\n",
    "images, labels = dataiter.next()\n",
    "print(images.shape)    # batch of 64 images, with 1 color channel, 28 X 28 image  (4-D tensor)\n",
    "print(labels.shape)    # label for each of the 64 images in the batch  (1-D tensor)\n",
    "print(labels)"
   ]
  },
  {
   "cell_type": "code",
   "execution_count": 9,
   "metadata": {},
   "outputs": [
    {
     "data": {
      "text/plain": [
       "<matplotlib.image.AxesImage at 0x7fe268651898>"
      ]
     },
     "execution_count": 9,
     "metadata": {},
     "output_type": "execute_result"
    },
    {
     "data": {
      "image/png": "[encoded data removed]",
      "text/plain": [
       "<Figure size 432x288 with 1 Axes>"
      ]
     },
     "metadata": {
      "image/png": {
       "height": 248,
       "width": 251
      },
      "needs_background": "light"
     },
     "output_type": "display_data"
    }
   ],
   "source": [
    "plt.imshow(images[1].squeeze())\n",
    "# squeeze required to bring it in 2-D (have to do this to plot it)"
   ]
  },
  {
   "cell_type": "markdown",
   "metadata": {},
   "source": [
    "## A multi-layer NN for the MNIST Dataset"
   ]
  },
  {
   "cell_type": "markdown",
   "metadata": {},
   "source": [
    "> **Exercise:** Flatten the batch of images `images`. Then build a multi-layer network with 784 input units, 256 hidden units, and 10 output units using random tensors for the weights and biases. For now, use a sigmoid activation for the hidden layer. Leave the output layer without an activation, we'll add one that gives us a probability distribution next."
   ]
  },
  {
   "cell_type": "code",
   "execution_count": 10,
   "metadata": {},
   "outputs": [
    {
     "data": {
      "text/plain": [
       "torch.Size([64, 784])"
      ]
     },
     "execution_count": 10,
     "metadata": {},
     "output_type": "execute_result"
    }
   ],
   "source": [
    "# We need to convert the batch of images with shape (64, 1, 28, 28) to a have a shape of (64, 784)\n",
    "# flatten each input image from (28,28) shape 2-D tensor to (784) shape 1-D tensor \n",
    "# each input should be a 1-D tensor/vector\n",
    "\n",
    "images = images.view(64,784)\n",
    "\n",
    "# alternatively,\n",
    "\n",
    "# images = images.view(images.shape[0],-1)\n",
    "\n",
    "images.shape"
   ]
  },
  {
   "cell_type": "code",
   "execution_count": 11,
   "metadata": {},
   "outputs": [],
   "source": [
    "n_input = images.shape[1]\n",
    "n_hidden = 256\n",
    "n_output = 10\n",
    "\n",
    "\n",
    "# Parameter initialisation for the multilayer neural network\n",
    "\n",
    "torch.manual_seed(7)\n",
    "\n",
    "W1 = torch.randn(n_input,n_hidden)  # shape: (784,256)\n",
    "B1 = torch.randn(n_hidden)  # shape: (256)\n",
    "\n",
    "W2 = torch.randn(n_hidden,n_output)  # shape: (256,10)\n",
    "B2 = torch.randn(n_output)  # shape: (10)"
   ]
  },
  {
   "cell_type": "code",
   "execution_count": 33,
   "metadata": {},
   "outputs": [
    {
     "name": "stdout",
     "output_type": "stream",
     "text": [
      "torch.Size([64, 256])\n"
     ]
    }
   ],
   "source": [
    "def activation(x):\n",
    "    \"\"\" Sigmoid function \n",
    "        x : tensor (any dimension) \"\"\"\n",
    "    \n",
    "    return 1/(1+torch.exp(-x))\n",
    "\n",
    "a1 = activation(torch.mm(images,W1)+B1)\n",
    "\n",
    "# output of torch.mm(images,W1) : shape = (64,256)\n",
    "# shape of B1 = (256)\n",
    "\n",
    "# Hence addition happens through broadcasting\n",
    "\n",
    "print(a1.shape)"
   ]
  },
  {
   "cell_type": "code",
   "execution_count": 34,
   "metadata": {},
   "outputs": [
    {
     "name": "stdout",
     "output_type": "stream",
     "text": [
      "torch.Size([64, 10])\n"
     ]
    }
   ],
   "source": [
    "a2 = torch.mm(a1,W2) + B2 \n",
    "# we won't apply sigmoid activation at the output layer since we want probability distribution of 10 probabilities for each example\n",
    "# we'll use softmax function rather\n",
    "\n",
    "print(a2.shape)"
   ]
  },
  {
   "cell_type": "code",
   "execution_count": 44,
   "metadata": {},
   "outputs": [
    {
     "name": "stdout",
     "output_type": "stream",
     "text": [
      "tensor([[-3.4333e-01, -9.9953e+00, -1.9062e+00, -9.5150e+00, -8.6484e+00,\n",
      "          2.7211e+00, -9.3670e+00, -1.0768e+01, -2.3310e+00, -9.8894e+00],\n",
      "        [ 5.8434e+00, -1.1235e+01,  4.7712e+00, -1.4859e-01,  4.7850e-01,\n",
      "          6.3328e+00, -9.3532e+00, -4.3544e+00,  5.5931e+00, -5.5166e+00],\n",
      "        [-1.0435e+00, -7.6537e+00,  5.0468e+00, -3.6903e+00, -5.8881e+00,\n",
      "          7.6491e+00, -5.5765e+00, -1.0866e+01,  1.1356e+00, -1.4419e+01],\n",
      "        [ 2.9982e+00, -1.5355e+00,  2.4889e+00, -1.0618e+01, -1.1817e-02,\n",
      "          4.4422e+00, -3.5883e+00, -6.4151e+00,  1.1192e+01, -2.9147e+00],\n",
      "        [ 5.6546e+00, -2.5243e+00, -2.3110e-01,  4.1359e-02,  2.3076e+00,\n",
      "          4.4411e+00, -1.1012e+01, -6.2890e+00,  6.0887e+00, -1.6036e+01],\n",
      "        [ 7.8079e+00, -6.9270e+00,  1.0358e+01, -4.4464e+00, -3.7416e-01,\n",
      "          8.5039e+00, -1.4277e+00, -1.1047e+01,  7.1976e+00, -1.5214e+01],\n",
      "        [ 3.8619e+00, -6.8512e+00,  4.9166e+00, -7.8614e+00, -8.0174e+00,\n",
      "          8.7503e+00, -2.9845e+00, -6.5505e+00,  1.0654e+01, -9.8388e+00],\n",
      "        [ 4.1170e+00, -7.6520e+00,  5.5990e+00,  1.1242e+00, -9.6557e+00,\n",
      "          3.6059e+00, -9.0240e+00, -4.1488e+00,  7.3215e+00, -7.1296e+00],\n",
      "        [ 2.8730e+00, -8.7924e+00,  1.7288e+00,  4.0439e-01, -5.8601e+00,\n",
      "          8.6767e+00, -1.7114e+00, -4.3614e+00,  7.8282e-01, -5.9375e+00],\n",
      "        [ 2.1298e+00, -7.9149e+00, -1.3208e+00, -1.1151e+01, -6.0983e+00,\n",
      "          7.2535e+00, -3.1711e-03,  3.6581e+00,  3.9213e+00, -1.1275e+01],\n",
      "        [ 4.8607e+00, -4.5081e+00, -3.5593e+00, -4.6717e-01, -9.4926e-01,\n",
      "          1.0553e+01, -3.5285e+00,  3.8220e+00, -7.4851e-01, -1.2298e+01],\n",
      "        [-3.1752e-01,  1.8253e+00,  5.1982e+00, -7.2476e+00, -6.7238e+00,\n",
      "          8.9322e+00, -5.9495e+00, -5.8108e+00,  4.5021e+00, -3.6997e+00],\n",
      "        [ 1.1858e+01, -7.6948e+00,  6.7785e+00,  8.0816e-02, -1.6159e+01,\n",
      "          4.6833e+00, -2.9845e+00, -1.2346e+01, -9.7689e+00, -1.9291e+01],\n",
      "        [-1.8596e-01, -1.3512e+01,  4.9640e+00, -1.1926e+01, -9.1184e+00,\n",
      "          6.9588e+00, -4.6328e+00, -1.3442e+01, -9.4104e+00, -1.1303e+01],\n",
      "        [-1.0772e+01, -6.9835e+00,  2.3758e+00, -6.5438e-01, -8.9746e+00,\n",
      "          1.0505e+00, -1.5899e+01,  2.5968e-01,  5.3164e+00, -1.1800e+01],\n",
      "        [-4.4576e+00, -9.6019e-01, -7.7627e+00, -3.4432e+00, -7.5426e+00,\n",
      "         -2.8654e+00, -7.3674e-01, -4.9558e+00,  4.5552e+00, -1.4678e+01],\n",
      "        [-6.7407e+00, -1.0597e+01, -6.0768e+00, -1.0521e+01, -1.1002e+01,\n",
      "         -1.4752e+00,  4.7129e-01,  1.6600e+00,  4.6180e+00, -1.0124e+01],\n",
      "        [ 1.0167e+00, -1.3645e+01,  1.2133e+00, -9.4048e+00,  3.3398e+00,\n",
      "          4.1346e+00, -9.2454e-01, -8.2279e+00,  1.1176e+01, -8.6647e+00],\n",
      "        [ 4.5358e+00, -1.0367e+01,  2.5599e-01,  1.3780e+00, -9.3968e+00,\n",
      "          1.4218e+01, -6.7263e+00, -1.0685e-01,  6.4538e-01, -8.5036e+00],\n",
      "        [-4.4143e+00, -4.4442e+00, -6.1048e+00, -1.7875e+00,  3.0594e+00,\n",
      "          8.4316e+00, -3.5960e+00, -8.5553e+00,  3.0547e+00, -7.8454e+00],\n",
      "        [ 3.7916e+00, -9.9584e+00,  1.0843e+01, -1.3118e+00, -9.1729e+00,\n",
      "          1.7257e+01,  1.7827e+00, -1.2159e+01,  1.3689e-02, -1.6073e+01],\n",
      "        [ 9.8951e+00, -1.1648e+01,  2.6989e+00, -4.9225e+00, -7.8245e+00,\n",
      "          1.4752e+01, -7.8964e+00, -1.1005e+01, -1.4811e+00, -4.4098e+00],\n",
      "        [-1.3411e+00, -8.1037e+00,  1.1759e+01, -2.1999e+00,  2.0346e+00,\n",
      "          2.0845e+01,  4.7116e+00, -1.1617e+01, -4.4531e+00, -1.4418e+01],\n",
      "        [-3.9391e+00, -1.5642e+01, -8.4485e+00, -7.5834e+00,  4.2432e+00,\n",
      "          8.6321e+00, -6.5137e+00, -2.3650e+00, -6.3173e-01, -7.7615e+00],\n",
      "        [ 4.2243e+00, -2.4084e+00, -6.6956e+00, -1.6008e+01,  1.0421e+00,\n",
      "          5.3314e+00, -9.2155e+00, -7.6452e+00, -5.1825e-01, -8.3331e+00],\n",
      "        [-1.4956e+00, -5.0964e+00, -8.2887e+00, -5.7806e+00, -8.1692e-01,\n",
      "          8.9033e+00, -4.3102e+00, -3.3596e+00,  2.1269e+00,  9.0154e+00],\n",
      "        [ 3.1096e+00, -2.8207e+00,  4.4049e+00, -8.8874e+00, -3.1029e+00,\n",
      "          6.8878e+00, -4.4935e+00, -6.3867e+00,  5.9621e-01, -6.7556e+00],\n",
      "        [ 5.7000e+00, -1.1938e+01,  4.4286e+00, -3.3102e-01, -4.6909e+00,\n",
      "          9.0792e+00, -1.0337e+01, -1.5297e+01, -1.3225e+00, -7.4062e+00],\n",
      "        [ 7.2816e+00, -1.2832e+01,  1.8231e+00, -9.2574e+00, -6.3097e+00,\n",
      "          1.2438e+01, -9.0344e+00, -6.7511e+00, -2.9287e+00, -5.7915e+00],\n",
      "        [-6.8872e+00, -9.0250e+00, -7.5908e+00,  2.0199e+00, -7.2757e+00,\n",
      "          1.0221e+01, -4.4120e+00, -7.3353e+00,  9.5691e+00, -5.4878e+00],\n",
      "        [ 6.3565e+00, -1.3326e+01, -1.9897e+00, -1.9195e+00, -8.7393e+00,\n",
      "          4.4214e+00, -6.4574e+00, -5.5215e+00,  5.5039e+00, -9.5453e+00],\n",
      "        [-2.5660e+00, -3.4931e+00, -3.0944e+00, -3.6164e+00, -4.7209e+00,\n",
      "          9.8859e+00,  4.2402e+00, -8.7090e+00, -2.7338e+00, -4.6178e+00],\n",
      "        [-2.4996e+00, -5.7437e+00,  8.9132e-01, -4.6015e+00, -2.2681e-01,\n",
      "          1.4691e+01, -4.0742e+00, -1.8361e+01,  1.9784e+00, -1.7795e+01],\n",
      "        [ 4.8691e+00, -1.3762e+00, -2.8000e+00, -3.8410e+00, -3.4564e+00,\n",
      "          6.5937e+00, -2.9987e+00, -7.3085e+00,  4.6344e+00, -4.8867e+00],\n",
      "        [ 8.3068e+00, -1.0401e+01,  4.7856e+00,  2.1453e+00, -6.4072e+00,\n",
      "          5.5672e+00, -1.4038e+01, -1.2006e+01,  5.4098e+00, -9.8720e+00],\n",
      "        [ 4.8204e+00, -1.2759e+01,  1.0314e+01, -8.7285e+00, -6.1719e+00,\n",
      "          1.4282e+01, -2.0586e+00,  1.5749e+00, -1.7489e+00, -1.2304e+01],\n",
      "        [ 4.3928e+00, -5.9741e+00,  5.0406e+00, -2.4991e-01, -5.0047e+00,\n",
      "          1.4255e+01, -5.1809e+00, -4.8968e+00,  1.5656e+01, -8.8793e+00],\n",
      "        [ 1.0994e+00,  2.7103e-01, -3.3136e+00, -9.4853e+00,  1.5901e+00,\n",
      "          1.6836e+01, -3.5003e-01, -1.3289e+01, -4.9848e+00, -1.3261e+01],\n",
      "        [ 4.9724e+00, -4.9657e-01,  3.6257e+00,  2.5072e-01, -4.4771e+00,\n",
      "          1.3673e+01, -5.9856e+00, -5.7907e+00, -4.0389e+00, -5.7056e+00],\n",
      "        [ 4.4198e+00, -1.1891e+01,  3.6680e-01,  4.4537e+00, -1.0173e+01,\n",
      "         -6.2703e-01, -4.3281e+00, -5.8368e-01,  4.7745e-01, -1.1335e+01],\n",
      "        [-1.1392e+00, -1.6113e+01, -4.7249e+00, -1.1251e+01, -3.7033e+00,\n",
      "          1.6578e+01, -4.9549e+00, -7.1470e+00, -4.6319e+00, -2.6704e+00],\n",
      "        [-8.0177e+00, -8.7794e+00, -1.5221e+00, -8.2276e+00, -3.8080e+00,\n",
      "          7.3965e+00, -6.6279e+00, -8.1954e-01,  4.5035e+00, -8.5714e+00],\n",
      "        [ 9.9292e-03, -9.8462e+00, -3.1093e+00,  1.7080e+00, -5.9102e+00,\n",
      "         -3.3133e+00, -6.1445e+00, -8.5039e-02,  1.9990e+00, -3.3871e+00],\n",
      "        [ 2.8992e+00,  5.8897e+00, -3.3065e+00, -1.3070e+01,  6.0822e+00,\n",
      "          1.2323e+01, -1.5746e+00, -1.0146e+01,  5.6860e-01, -9.4022e+00],\n",
      "        [-4.1896e+00, -3.1730e+00,  2.2380e+00, -3.6212e+00,  3.1410e+00,\n",
      "          1.7128e+01, -5.8171e+00, -2.1935e+00,  1.2149e+00, -7.8235e+00],\n",
      "        [ 3.7202e+00, -3.1165e+00,  4.6364e+00, -1.1094e+01, -3.8308e+00,\n",
      "          9.9105e+00, -3.1108e+00, -1.3963e+01,  8.0068e+00, -1.3602e+01],\n",
      "        [ 6.2593e+00, -1.0112e+01,  8.2906e+00, -6.4460e-01, -6.8401e+00,\n",
      "          7.9399e+00, -1.0561e+01, -2.1562e+00,  7.3541e+00,  5.6997e+00],\n",
      "        [ 1.0148e+01, -4.7042e+00,  2.1947e+00, -1.0037e+01, -6.2556e+00,\n",
      "         -4.6255e+00, -1.1249e+01, -5.9584e+00, -1.2453e+00, -6.2898e-01],\n",
      "        [ 2.6096e+00, -1.1694e+01, -1.9925e+00, -9.9937e+00, -5.0195e+00,\n",
      "          1.3226e+01, -6.5084e+00, -6.2457e+00,  2.1114e+00, -1.3543e+00],\n",
      "        [ 1.2128e+00, -1.5778e+00, -2.1014e+00, -1.1184e+01,  5.2537e+00,\n",
      "          9.0433e+00,  4.7665e-01, -4.7871e-01,  8.4335e+00, -1.2089e+01],\n",
      "        [ 9.7046e+00, -1.5393e+01,  2.8110e+00, -5.2501e+00, -6.5619e+00,\n",
      "          1.3953e+01, -9.0968e+00, -9.6604e+00, -1.6062e+00, -3.5844e+00],\n",
      "        [ 1.7534e+00, -6.8035e-01, -6.5607e+00, -8.8133e+00,  1.4885e+00,\n",
      "          8.1968e+00, -3.3278e+00,  4.4225e+00,  1.3009e+01, -5.6305e+00],\n",
      "        [-6.4492e+00, -1.0524e+01,  6.0738e+00, -3.8082e+00, -4.2179e+00,\n",
      "          9.3183e+00,  4.0358e+00, -1.8469e+01,  3.7628e-01, -1.1266e+01],\n",
      "        [-6.3563e-01, -1.1562e+01,  1.2383e+00,  6.5948e+00, -3.1711e+00,\n",
      "          1.7387e+01,  1.3481e+00, -1.0026e+01, -4.5731e+00, -1.0303e+01],\n",
      "        [-2.0428e+00, -1.0980e+01, -3.7029e+00, -5.9586e+00,  2.3425e+00,\n",
      "          9.9474e+00,  1.7116e+00, -5.4987e+00, -1.6847e+00, -8.6274e+00],\n",
      "        [ 2.1227e+00,  5.5031e-01,  1.3764e+00, -5.8826e+00,  1.5077e+00,\n",
      "          9.3521e+00, -7.4382e+00, -8.9392e+00, -1.0116e+00,  3.8398e+00],\n",
      "        [ 1.9448e+00, -3.2880e+00,  1.7174e+00, -1.1485e+01, -9.0135e+00,\n",
      "          7.7643e+00, -9.7324e+00, -6.5975e+00,  6.8794e+00,  3.0470e+00],\n",
      "        [ 9.8346e+00, -1.5234e+01,  3.4749e+00, -4.4667e+00, -5.5510e+00,\n",
      "          8.4316e+00, -9.4961e+00, -6.3924e+00, -1.6260e+00, -7.7732e+00],\n",
      "        [ 5.3926e+00,  3.5675e-01,  3.2587e+00,  9.9361e-01, -3.3201e+00,\n",
      "          1.1716e+00, -1.0480e+01, -9.0614e+00,  6.5434e+00, -7.1007e+00],\n",
      "        [ 1.7473e-01, -4.2321e-01,  8.8232e+00, -1.1584e+01, -1.4651e+01,\n",
      "          1.2990e+01, -6.2373e+00, -1.3707e+01,  2.7940e+00, -8.8696e+00],\n",
      "        [ 8.0933e+00, -4.4150e+00,  7.9494e+00, -5.1297e+00, -6.8276e+00,\n",
      "          6.3260e+00, -1.2421e+01, -1.3006e+01,  6.2252e+00, -1.4528e+01],\n",
      "        [-1.3022e+00, -5.5821e+00,  2.1245e+00, -9.8532e+00,  1.7900e+00,\n",
      "          1.0264e+01, -2.8627e+00, -8.3253e+00, -2.8343e+00, -1.0296e+01],\n",
      "        [-1.2109e+01, -1.1364e+01, -1.8739e+00, -4.0791e-02, -1.2712e+01,\n",
      "          2.2285e+00, -9.5877e+00, -2.8806e+00,  1.0544e+01, -4.6595e+00],\n",
      "        [ 7.6911e+00, -9.1804e+00,  8.2203e+00, -9.4938e+00, -1.2607e+01,\n",
      "         -1.6207e+00, -1.7672e+00, -1.0945e+01, -6.0003e+00, -1.8488e+01]])\n"
     ]
    }
   ],
   "source": [
    "# a2 is the final output\n",
    "\n",
    "out = a2\n",
    "print(out)"
   ]
  },
  {
   "cell_type": "code",
   "execution_count": null,
   "metadata": {},
   "outputs": [],
   "source": []
  },
  {
   "cell_type": "markdown",
   "metadata": {},
   "source": [
    "## Softmax Function"
   ]
  },
  {
   "cell_type": "markdown",
   "metadata": {},
   "source": [
    "### Activation function for output layer to get a Probability Distribution"
   ]
  },
  {
   "cell_type": "markdown",
   "metadata": {},
   "source": [
    "> **Exercise:** Implement a function `softmax` that performs the softmax calculation and returns probability distributions for each example in the batch. Note that you'll need to pay attention to the shapes when doing this. If you have a tensor `a` with shape `(64, 10)` and a tensor `b` with shape `(64,)`, doing `a/b` will give you an error because PyTorch will try to do the division across the columns (called broadcasting) but you'll get a size mismatch. The way to think about this is for each of the 64 examples, you only want to divide by one value, the sum in the denominator. So you need `b` to have a shape of `(64, 1)`. This way PyTorch will divide the 10 values in each row of `a` by the one value in each row of `b`. Pay attention to how you take the sum as well. You'll need to define the `dim` keyword in `torch.sum`. Setting `dim=0` takes the sum across the rows while `dim=1` takes the sum across the columns."
   ]
  },
  {
   "cell_type": "code",
   "execution_count": 36,
   "metadata": {},
   "outputs": [],
   "source": [
    "def softmax(x):\n",
    "    \"\"\"\n",
    "    x : a tensor (any dimension)\n",
    "    \n",
    "    \"\"\"\n",
    "    \n",
    "    # x = out , shape of out : (64,10)\n",
    "    \n",
    "    den = (torch.exp(x)).sum(dim=1)   # den.shape : (64)\n",
    "    \n",
    "    # OR den = torch.sum(torch.exp(x), dim=1)\n",
    "    \n",
    "    return torch.exp(x)/den.view(-1,1)"
   ]
  },
  {
   "cell_type": "code",
   "execution_count": 46,
   "metadata": {},
   "outputs": [
    {
     "name": "stdout",
     "output_type": "stream",
     "text": [
      "torch.Size([64, 10])\n",
      "tensor([[0.0899, 0.0860, 0.0868, 0.0860, 0.0860, 0.2204, 0.0860, 0.0860, 0.0866,\n",
      "         0.0860],\n",
      "        [0.1167, 0.0895, 0.0980, 0.0895, 0.0896, 0.1381, 0.0895, 0.0895, 0.1101,\n",
      "         0.0895],\n",
      "        [0.0862, 0.0862, 0.0923, 0.0862, 0.0862, 0.2183, 0.0862, 0.0862, 0.0863,\n",
      "         0.0862],\n",
      "        [0.0854, 0.0854, 0.0854, 0.0854, 0.0854, 0.0855, 0.0854, 0.0854, 0.2316,\n",
      "         0.0854],\n",
      "        [0.1258, 0.0889, 0.0890, 0.0890, 0.0900, 0.0986, 0.0889, 0.0889, 0.1519,\n",
      "         0.0889],\n",
      "        [0.0931, 0.0876, 0.1917, 0.0876, 0.0876, 0.0990, 0.0876, 0.0876, 0.0906,\n",
      "         0.0876],\n",
      "        [0.0869, 0.0868, 0.0870, 0.0868, 0.0868, 0.0988, 0.0868, 0.0868, 0.2066,\n",
      "         0.0868],\n",
      "        [0.0903, 0.0874, 0.1009, 0.0876, 0.0874, 0.0891, 0.0874, 0.0874, 0.1951,\n",
      "         0.0874],\n",
      "        [0.0857, 0.0854, 0.0855, 0.0854, 0.0854, 0.2311, 0.0854, 0.0854, 0.0854,\n",
      "         0.0854],\n",
      "        [0.0866, 0.0861, 0.0861, 0.0861, 0.0861, 0.2193, 0.0862, 0.0884, 0.0890,\n",
      "         0.0861],\n",
      "        [0.0857, 0.0854, 0.0854, 0.0854, 0.0854, 0.2311, 0.0854, 0.0855, 0.0854,\n",
      "         0.0854],\n",
      "        [0.0858, 0.0858, 0.0878, 0.0858, 0.0858, 0.2250, 0.0858, 0.0858, 0.0868,\n",
      "         0.0858],\n",
      "        [0.2306, 0.0854, 0.0860, 0.0854, 0.0854, 0.0855, 0.0854, 0.0854, 0.0854,\n",
      "         0.0854],\n",
      "        [0.0867, 0.0867, 0.0977, 0.0867, 0.0867, 0.2089, 0.0867, 0.0867, 0.0867,\n",
      "         0.0867],\n",
      "        [0.0862, 0.0862, 0.0905, 0.0864, 0.0862, 0.0873, 0.0862, 0.0867, 0.2183,\n",
      "         0.0862],\n",
      "        [0.0855, 0.0858, 0.0855, 0.0855, 0.0855, 0.0855, 0.0859, 0.0855, 0.2300,\n",
      "         0.0855],\n",
      "        [0.0861, 0.0861, 0.0861, 0.0861, 0.0861, 0.0863, 0.0874, 0.0904, 0.2192,\n",
      "         0.0861],\n",
      "        [0.0854, 0.0854, 0.0854, 0.0854, 0.0854, 0.0854, 0.0854, 0.0854, 0.2317,\n",
      "         0.0854],\n",
      "        [0.0853, 0.0853, 0.0853, 0.0853, 0.0853, 0.2320, 0.0853, 0.0853, 0.0853,\n",
      "         0.0853],\n",
      "        [0.0855, 0.0855, 0.0855, 0.0855, 0.0858, 0.2301, 0.0855, 0.0855, 0.0858,\n",
      "         0.0855],\n",
      "        [0.0854, 0.0854, 0.0855, 0.0854, 0.0854, 0.2316, 0.0854, 0.0854, 0.0854,\n",
      "         0.0854],\n",
      "        [0.0861, 0.0854, 0.0854, 0.0854, 0.0854, 0.2304, 0.0854, 0.0854, 0.0854,\n",
      "         0.0854],\n",
      "        [0.0853, 0.0853, 0.0853, 0.0853, 0.0853, 0.2319, 0.0853, 0.0853, 0.0853,\n",
      "         0.0853],\n",
      "        [0.0855, 0.0855, 0.0855, 0.0855, 0.0865, 0.2295, 0.0855, 0.0855, 0.0855,\n",
      "         0.0855],\n",
      "        [0.1122, 0.0878, 0.0878, 0.0878, 0.0887, 0.1844, 0.0878, 0.0878, 0.0880,\n",
      "         0.0878],\n",
      "        [0.0885, 0.0885, 0.0885, 0.0885, 0.0885, 0.1419, 0.0885, 0.0885, 0.0886,\n",
      "         0.1500],\n",
      "        [0.0883, 0.0865, 0.0932, 0.0865, 0.0865, 0.2131, 0.0865, 0.0865, 0.0866,\n",
      "         0.0865],\n",
      "        [0.0887, 0.0858, 0.0866, 0.0858, 0.0858, 0.2238, 0.0858, 0.0858, 0.0858,\n",
      "         0.0858],\n",
      "        [0.0859, 0.0854, 0.0854, 0.0854, 0.0854, 0.2308, 0.0854, 0.0854, 0.0854,\n",
      "         0.0854],\n",
      "        [0.0882, 0.0882, 0.0882, 0.0882, 0.0882, 0.1702, 0.0882, 0.0882, 0.1242,\n",
      "         0.0882],\n",
      "        [0.1673, 0.0885, 0.0885, 0.0885, 0.0885, 0.0970, 0.0885, 0.0885, 0.1161,\n",
      "         0.0885],\n",
      "        [0.0854, 0.0854, 0.0854, 0.0854, 0.0854, 0.2313, 0.0857, 0.0854, 0.0854,\n",
      "         0.0854],\n",
      "        [0.0853, 0.0853, 0.0853, 0.0853, 0.0853, 0.2320, 0.0853, 0.0853, 0.0853,\n",
      "         0.0853],\n",
      "        [0.1005, 0.0878, 0.0878, 0.0878, 0.0878, 0.1873, 0.0878, 0.0878, 0.0977,\n",
      "         0.0878],\n",
      "        [0.2069, 0.0868, 0.0891, 0.0870, 0.0868, 0.0918, 0.0868, 0.0868, 0.0911,\n",
      "         0.0868],\n",
      "        [0.0856, 0.0856, 0.0872, 0.0856, 0.0856, 0.2283, 0.0856, 0.0856, 0.0856,\n",
      "         0.0856],\n",
      "        [0.0873, 0.0873, 0.0873, 0.0873, 0.0873, 0.1064, 0.0873, 0.0873, 0.1948,\n",
      "         0.0873],\n",
      "        [0.0853, 0.0853, 0.0853, 0.0853, 0.0853, 0.2320, 0.0853, 0.0853, 0.0853,\n",
      "         0.0853],\n",
      "        [0.0854, 0.0853, 0.0853, 0.0853, 0.0853, 0.2319, 0.0853, 0.0853, 0.0853,\n",
      "         0.0853],\n",
      "        [0.1432, 0.0886, 0.0894, 0.1456, 0.0886, 0.0889, 0.0886, 0.0889, 0.0895,\n",
      "         0.0886],\n",
      "        [0.0853, 0.0853, 0.0853, 0.0853, 0.0853, 0.2320, 0.0853, 0.0853, 0.0853,\n",
      "         0.0853],\n",
      "        [0.0860, 0.0860, 0.0860, 0.0860, 0.0860, 0.2216, 0.0860, 0.0860, 0.0906,\n",
      "         0.0860],\n",
      "        [0.0953, 0.0891, 0.0893, 0.1288, 0.0891, 0.0893, 0.0891, 0.0947, 0.1460,\n",
      "         0.0893],\n",
      "        [0.0854, 0.0855, 0.0854, 0.0854, 0.0855, 0.2313, 0.0854, 0.0854, 0.0854,\n",
      "         0.0854],\n",
      "        [0.0853, 0.0853, 0.0853, 0.0853, 0.0853, 0.2320, 0.0853, 0.0853, 0.0853,\n",
      "         0.0853],\n",
      "        [0.0870, 0.0868, 0.0872, 0.0868, 0.0868, 0.2062, 0.0868, 0.0868, 0.0988,\n",
      "         0.0868],\n",
      "        [0.0947, 0.0895, 0.1381, 0.0895, 0.0895, 0.1215, 0.0895, 0.0895, 0.1061,\n",
      "         0.0924],\n",
      "        [0.2319, 0.0853, 0.0854, 0.0853, 0.0853, 0.0853, 0.0853, 0.0853, 0.0853,\n",
      "         0.0853],\n",
      "        [0.0853, 0.0853, 0.0853, 0.0853, 0.0853, 0.2320, 0.0853, 0.0853, 0.0853,\n",
      "         0.0853],\n",
      "        [0.0883, 0.0883, 0.0883, 0.0883, 0.0896, 0.1672, 0.0883, 0.0883, 0.1249,\n",
      "         0.0883],\n",
      "        [0.0867, 0.0855, 0.0855, 0.0855, 0.0855, 0.2292, 0.0855, 0.0855, 0.0855,\n",
      "         0.0855],\n",
      "        [0.0854, 0.0854, 0.0854, 0.0854, 0.0854, 0.0861, 0.0854, 0.0855, 0.2303,\n",
      "         0.0854],\n",
      "        [0.0858, 0.0858, 0.0891, 0.0858, 0.0858, 0.2237, 0.0863, 0.0858, 0.0859,\n",
      "         0.0858],\n",
      "        [0.0853, 0.0853, 0.0853, 0.0853, 0.0853, 0.2320, 0.0853, 0.0853, 0.0853,\n",
      "         0.0853],\n",
      "        [0.0853, 0.0853, 0.0853, 0.0853, 0.0854, 0.2318, 0.0854, 0.0853, 0.0853,\n",
      "         0.0853],\n",
      "        [0.0855, 0.0854, 0.0854, 0.0854, 0.0854, 0.2309, 0.0854, 0.0854, 0.0854,\n",
      "         0.0858],\n",
      "        [0.0882, 0.0880, 0.0882, 0.0880, 0.0880, 0.1774, 0.0880, 0.0880, 0.1175,\n",
      "         0.0886],\n",
      "        [0.1947, 0.0874, 0.0875, 0.0874, 0.0874, 0.1064, 0.0874, 0.0874, 0.0874,\n",
      "         0.0874],\n",
      "        [0.1108, 0.0880, 0.0903, 0.0881, 0.0879, 0.0882, 0.0879, 0.0879, 0.1829,\n",
      "         0.0879],\n",
      "        [0.0855, 0.0855, 0.0868, 0.0855, 0.0855, 0.2290, 0.0855, 0.0855, 0.0855,\n",
      "         0.0855],\n",
      "        [0.1407, 0.0891, 0.1324, 0.0891, 0.0891, 0.0964, 0.0891, 0.0891, 0.0957,\n",
      "         0.0891],\n",
      "        [0.0853, 0.0853, 0.0854, 0.0853, 0.0854, 0.2319, 0.0853, 0.0853, 0.0853,\n",
      "         0.0853],\n",
      "        [0.0853, 0.0853, 0.0853, 0.0853, 0.0853, 0.0854, 0.0853, 0.0853, 0.2319,\n",
      "         0.0853],\n",
      "        [0.1279, 0.0883, 0.1657, 0.0883, 0.0883, 0.0883, 0.0883, 0.0883, 0.0883,\n",
      "         0.0883]])\n",
      "tensor([1.0000, 1.0000, 1.0000, 1.0000, 1.0000, 1.0000, 1.0000, 1.0000, 1.0000,\n",
      "        1.0000, 1.0000, 1.0000, 1.0000, 1.0000, 1.0000, 1.0000, 1.0000, 1.0000,\n",
      "        1.0000, 1.0000, 1.0000, 1.0000, 1.0000, 1.0000, 1.0000, 1.0000, 1.0000,\n",
      "        1.0000, 1.0000, 1.0000, 1.0000, 1.0000, 1.0000, 1.0000, 1.0000, 1.0000,\n",
      "        1.0000, 1.0000, 1.0000, 1.0000, 1.0000, 1.0000, 1.0000, 1.0000, 1.0000,\n",
      "        1.0000, 1.0000, 1.0000, 1.0000, 1.0000, 1.0000, 1.0000, 1.0000, 1.0000,\n",
      "        1.0000, 1.0000, 1.0000, 1.0000, 1.0000, 1.0000, 1.0000, 1.0000, 1.0000,\n",
      "        1.0000])\n"
     ]
    }
   ],
   "source": [
    "out = softmax(out)\n",
    "\n",
    "print(out.shape)\n",
    "\n",
    "print(out)\n",
    "\n",
    "print(torch.sum(out,dim=1)) # Each row sums up to 1"
   ]
  },
  {
   "cell_type": "code",
   "execution_count": 42,
   "metadata": {
    "scrolled": true
   },
   "outputs": [
    {
     "data": {
      "text/plain": [
       "<matplotlib.image.AxesImage at 0x7f4b902e4a90>"
      ]
     },
     "execution_count": 42,
     "metadata": {},
     "output_type": "execute_result"
    },
    {
     "data": {
      "image/png": "[encoded data removed]",
      "text/plain": [
       "<Figure size 432x288 with 1 Axes>"
      ]
     },
     "metadata": {
      "image/png": {
       "height": 248,
       "width": 251
      },
      "needs_background": "light"
     },
     "output_type": "display_data"
    }
   ],
   "source": [
    "plt.imshow(images[10].view(28,28).squeeze())"
   ]
  },
  {
   "cell_type": "markdown",
   "metadata": {},
   "source": [
    "# Building networks with PyTorch"
   ]
  },
  {
   "cell_type": "markdown",
   "metadata": {},
   "source": [
    "> **Exercise:** Create a network with 784 input units, a hidden layer with 128 units and a ReLU activation, then a hidden layer with 64 units and a ReLU activation, and finally an output layer with a softmax activation as shown above. You can use a ReLU activation with the `nn.ReLU` module or `F.relu` function."
   ]
  },
  {
   "cell_type": "code",
   "execution_count": 6,
   "metadata": {},
   "outputs": [],
   "source": [
    "from torch import nn"
   ]
  },
  {
   "cell_type": "code",
   "execution_count": 13,
   "metadata": {},
   "outputs": [],
   "source": [
    "import torch.nn.functional as F\n",
    "\n",
    "class Network(nn.Module):\n",
    "    \n",
    "    def __init__(self):\n",
    "        super().__init__()\n",
    "        \n",
    "        # Inputs to hidden layer (fully connected layer 1 : fc1) linear transformation\n",
    "        self.fc1 = nn.Linear(784,128)\n",
    "        \n",
    "        # fc1 to fc2 linear transformation\n",
    "        self.fc2 = nn.Linear(128,64)\n",
    "        \n",
    "        # fc2 to fc3 (output layer) linear transformation\n",
    "        self.fc3 = nn.Linear(64,10)\n",
    "        \n",
    "#         self.relu = nn.ReLU()\n",
    "#         self.softmax = nn.Softmax(dim=1)\n",
    "        \n",
    "    \n",
    "    def forward(self, x): \n",
    "        x = self.fc1(x)\n",
    "        x = F.relu(x)    # self.relu(x)\n",
    "        x = self.fc2(x)\n",
    "        x = F.relu(x)    # self.relu(x)\n",
    "        x = self.fc3(x)\n",
    "        x = F.softmax(x, dim=1)   # self.softmax(x)\n",
    "        \n",
    "        return x"
   ]
  },
  {
   "cell_type": "code",
   "execution_count": 3,
   "metadata": {},
   "outputs": [
    {
     "data": {
      "text/plain": [
       "Network(\n",
       "  (fc1): Linear(in_features=784, out_features=128, bias=True)\n",
       "  (fc2): Linear(in_features=128, out_features=64, bias=True)\n",
       "  (fc3): Linear(in_features=64, out_features=10, bias=True)\n",
       ")"
      ]
     },
     "execution_count": 3,
     "metadata": {},
     "output_type": "execute_result"
    }
   ],
   "source": [
    "model = Network()\n",
    "model"
   ]
  },
  {
   "cell_type": "code",
   "execution_count": 4,
   "metadata": {},
   "outputs": [
    {
     "name": "stdout",
     "output_type": "stream",
     "text": [
      "Parameter containing:\n",
      "tensor([[ 0.0269,  0.0158,  0.0182,  ...,  0.0282, -0.0246, -0.0091],\n",
      "        [-0.0149, -0.0013,  0.0096,  ..., -0.0131,  0.0010,  0.0262],\n",
      "        [ 0.0016,  0.0204, -0.0030,  ...,  0.0095,  0.0110,  0.0258],\n",
      "        ...,\n",
      "        [-0.0075, -0.0350,  0.0176,  ...,  0.0028,  0.0318, -0.0340],\n",
      "        [-0.0157,  0.0080,  0.0048,  ...,  0.0232, -0.0114, -0.0120],\n",
      "        [-0.0239, -0.0032, -0.0308,  ...,  0.0162,  0.0050,  0.0351]],\n",
      "       requires_grad=True)\n",
      "Parameter containing:\n",
      "tensor([-0.0341,  0.0009,  0.0249, -0.0336,  0.0154,  0.0106,  0.0182,  0.0316,\n",
      "         0.0332,  0.0306, -0.0199,  0.0038, -0.0308, -0.0031,  0.0007, -0.0074,\n",
      "        -0.0331, -0.0215, -0.0128, -0.0215,  0.0022, -0.0105,  0.0277,  0.0337,\n",
      "         0.0114,  0.0172, -0.0117,  0.0220, -0.0106, -0.0152,  0.0200,  0.0214,\n",
      "         0.0296, -0.0058,  0.0226,  0.0081,  0.0026, -0.0283,  0.0097, -0.0082,\n",
      "        -0.0357,  0.0315,  0.0054, -0.0351,  0.0161, -0.0162,  0.0353,  0.0066,\n",
      "        -0.0262, -0.0271,  0.0046,  0.0191, -0.0007, -0.0134,  0.0352,  0.0300,\n",
      "         0.0240,  0.0128,  0.0311,  0.0113,  0.0242, -0.0176,  0.0257,  0.0179,\n",
      "         0.0317,  0.0052, -0.0213,  0.0012,  0.0184,  0.0289, -0.0172, -0.0083,\n",
      "         0.0080,  0.0124,  0.0129,  0.0318,  0.0171,  0.0221, -0.0032,  0.0347,\n",
      "        -0.0318, -0.0030,  0.0034,  0.0088,  0.0087,  0.0111, -0.0025, -0.0296,\n",
      "        -0.0179,  0.0014, -0.0003,  0.0210, -0.0114, -0.0150,  0.0136,  0.0061,\n",
      "        -0.0003,  0.0231, -0.0185, -0.0175, -0.0322, -0.0187,  0.0094,  0.0223,\n",
      "        -0.0209, -0.0201, -0.0225,  0.0018,  0.0133, -0.0166, -0.0346,  0.0047,\n",
      "        -0.0139,  0.0112, -0.0036, -0.0132, -0.0255, -0.0328, -0.0213,  0.0079,\n",
      "        -0.0320, -0.0164, -0.0077, -0.0062,  0.0148, -0.0309,  0.0127,  0.0182],\n",
      "       requires_grad=True)\n"
     ]
    }
   ],
   "source": [
    "# Autograd Variables\n",
    "\n",
    "print(model.fc1.weight)\n",
    "print(model.fc1.bias)"
   ]
  },
  {
   "cell_type": "code",
   "execution_count": 5,
   "metadata": {},
   "outputs": [
    {
     "name": "stdout",
     "output_type": "stream",
     "text": [
      "Parameter containing:\n",
      "tensor([[-0.0151,  0.0078,  0.0044,  ...,  0.0026, -0.0198, -0.0050],\n",
      "        [ 0.0023, -0.0254,  0.0100,  ...,  0.0159, -0.0152, -0.0077],\n",
      "        [ 0.0087, -0.0145, -0.0004,  ..., -0.0035, -0.0099, -0.0160],\n",
      "        ...,\n",
      "        [-0.0065,  0.0184, -0.0155,  ..., -0.0145,  0.0170, -0.0039],\n",
      "        [-0.0046, -0.0003,  0.0103,  ...,  0.0077, -0.0123,  0.0057],\n",
      "        [ 0.0143,  0.0010,  0.0112,  ...,  0.0230,  0.0017, -0.0237]],\n",
      "       requires_grad=True)\n",
      "Parameter containing:\n",
      "tensor([0., 0., 0., 0., 0., 0., 0., 0., 0., 0., 0., 0., 0., 0., 0., 0., 0., 0., 0., 0., 0., 0., 0., 0.,\n",
      "        0., 0., 0., 0., 0., 0., 0., 0., 0., 0., 0., 0., 0., 0., 0., 0., 0., 0., 0., 0., 0., 0., 0., 0.,\n",
      "        0., 0., 0., 0., 0., 0., 0., 0., 0., 0., 0., 0., 0., 0., 0., 0., 0., 0., 0., 0., 0., 0., 0., 0.,\n",
      "        0., 0., 0., 0., 0., 0., 0., 0., 0., 0., 0., 0., 0., 0., 0., 0., 0., 0., 0., 0., 0., 0., 0., 0.,\n",
      "        0., 0., 0., 0., 0., 0., 0., 0., 0., 0., 0., 0., 0., 0., 0., 0., 0., 0., 0., 0., 0., 0., 0., 0.,\n",
      "        0., 0., 0., 0., 0., 0., 0., 0.], requires_grad=True)\n"
     ]
    }
   ],
   "source": [
    "# Custom initialisation of the Autograd Variables\n",
    "\n",
    "# Sample from random normal with standard dev = 0.01\n",
    "model.fc1.weight.data.normal_(std=0.01)\n",
    "# Set all bias to zero ('_' means inplace)\n",
    "model.fc1.bias.data.fill_(0)\n",
    "\n",
    "print(model.fc1.weight)\n",
    "print(model.fc1.bias)"
   ]
  },
  {
   "cell_type": "markdown",
   "metadata": {},
   "source": [
    "### Now using the neural network that we built"
   ]
  },
  {
   "cell_type": "code",
   "execution_count": 44,
   "metadata": {},
   "outputs": [
    {
     "name": "stdout",
     "output_type": "stream",
     "text": [
      "torch.Size([64, 1, 10])\n",
      "tensor([[[0.0158, 0.0163, 0.0158, 0.0161, 0.0162, 0.0161, 0.0152, 0.0156,\n",
      "          0.0159, 0.0156]],\n",
      "\n",
      "        [[0.0158, 0.0157, 0.0153, 0.0157, 0.0159, 0.0158, 0.0153, 0.0157,\n",
      "          0.0157, 0.0154]],\n",
      "\n",
      "        [[0.0156, 0.0160, 0.0159, 0.0153, 0.0154, 0.0156, 0.0153, 0.0155,\n",
      "          0.0158, 0.0154]],\n",
      "\n",
      "        [[0.0157, 0.0152, 0.0157, 0.0156, 0.0158, 0.0153, 0.0159, 0.0154,\n",
      "          0.0151, 0.0164]],\n",
      "\n",
      "        [[0.0155, 0.0156, 0.0151, 0.0156, 0.0158, 0.0154, 0.0160, 0.0153,\n",
      "          0.0155, 0.0156]],\n",
      "\n",
      "        [[0.0153, 0.0156, 0.0155, 0.0158, 0.0157, 0.0154, 0.0153, 0.0153,\n",
      "          0.0159, 0.0157]],\n",
      "\n",
      "        [[0.0161, 0.0154, 0.0159, 0.0155, 0.0154, 0.0157, 0.0158, 0.0157,\n",
      "          0.0154, 0.0161]],\n",
      "\n",
      "        [[0.0157, 0.0156, 0.0151, 0.0154, 0.0158, 0.0156, 0.0153, 0.0160,\n",
      "          0.0154, 0.0151]],\n",
      "\n",
      "        [[0.0154, 0.0157, 0.0164, 0.0157, 0.0157, 0.0152, 0.0164, 0.0159,\n",
      "          0.0158, 0.0156]],\n",
      "\n",
      "        [[0.0155, 0.0152, 0.0164, 0.0160, 0.0155, 0.0156, 0.0160, 0.0159,\n",
      "          0.0162, 0.0161]],\n",
      "\n",
      "        [[0.0157, 0.0156, 0.0157, 0.0155, 0.0153, 0.0157, 0.0155, 0.0158,\n",
      "          0.0153, 0.0158]],\n",
      "\n",
      "        [[0.0155, 0.0156, 0.0159, 0.0154, 0.0156, 0.0161, 0.0155, 0.0160,\n",
      "          0.0157, 0.0157]],\n",
      "\n",
      "        [[0.0157, 0.0149, 0.0161, 0.0157, 0.0158, 0.0150, 0.0162, 0.0149,\n",
      "          0.0157, 0.0149]],\n",
      "\n",
      "        [[0.0156, 0.0158, 0.0153, 0.0155, 0.0152, 0.0155, 0.0155, 0.0156,\n",
      "          0.0158, 0.0160]],\n",
      "\n",
      "        [[0.0160, 0.0150, 0.0153, 0.0156, 0.0154, 0.0156, 0.0155, 0.0152,\n",
      "          0.0156, 0.0155]],\n",
      "\n",
      "        [[0.0158, 0.0156, 0.0153, 0.0156, 0.0155, 0.0156, 0.0155, 0.0158,\n",
      "          0.0157, 0.0155]],\n",
      "\n",
      "        [[0.0158, 0.0155, 0.0155, 0.0156, 0.0157, 0.0156, 0.0152, 0.0153,\n",
      "          0.0156, 0.0156]],\n",
      "\n",
      "        [[0.0156, 0.0158, 0.0154, 0.0158, 0.0156, 0.0156, 0.0149, 0.0154,\n",
      "          0.0157, 0.0159]],\n",
      "\n",
      "        [[0.0160, 0.0157, 0.0151, 0.0155, 0.0155, 0.0153, 0.0153, 0.0152,\n",
      "          0.0157, 0.0155]],\n",
      "\n",
      "        [[0.0158, 0.0160, 0.0154, 0.0156, 0.0161, 0.0164, 0.0148, 0.0154,\n",
      "          0.0157, 0.0151]],\n",
      "\n",
      "        [[0.0149, 0.0152, 0.0151, 0.0157, 0.0155, 0.0152, 0.0160, 0.0159,\n",
      "          0.0152, 0.0156]],\n",
      "\n",
      "        [[0.0156, 0.0152, 0.0152, 0.0151, 0.0156, 0.0149, 0.0160, 0.0156,\n",
      "          0.0152, 0.0158]],\n",
      "\n",
      "        [[0.0156, 0.0148, 0.0153, 0.0154, 0.0155, 0.0154, 0.0161, 0.0160,\n",
      "          0.0147, 0.0156]],\n",
      "\n",
      "        [[0.0153, 0.0157, 0.0162, 0.0153, 0.0154, 0.0157, 0.0156, 0.0158,\n",
      "          0.0155, 0.0160]],\n",
      "\n",
      "        [[0.0155, 0.0151, 0.0152, 0.0155, 0.0155, 0.0146, 0.0157, 0.0149,\n",
      "          0.0154, 0.0161]],\n",
      "\n",
      "        [[0.0157, 0.0158, 0.0154, 0.0159, 0.0160, 0.0160, 0.0153, 0.0157,\n",
      "          0.0160, 0.0154]],\n",
      "\n",
      "        [[0.0160, 0.0162, 0.0157, 0.0163, 0.0161, 0.0160, 0.0154, 0.0155,\n",
      "          0.0163, 0.0161]],\n",
      "\n",
      "        [[0.0152, 0.0154, 0.0160, 0.0153, 0.0154, 0.0160, 0.0159, 0.0159,\n",
      "          0.0148, 0.0160]],\n",
      "\n",
      "        [[0.0154, 0.0155, 0.0158, 0.0153, 0.0153, 0.0153, 0.0157, 0.0158,\n",
      "          0.0156, 0.0157]],\n",
      "\n",
      "        [[0.0155, 0.0157, 0.0153, 0.0160, 0.0160, 0.0160, 0.0153, 0.0157,\n",
      "          0.0160, 0.0155]],\n",
      "\n",
      "        [[0.0159, 0.0157, 0.0159, 0.0158, 0.0155, 0.0163, 0.0155, 0.0157,\n",
      "          0.0159, 0.0156]],\n",
      "\n",
      "        [[0.0153, 0.0153, 0.0160, 0.0153, 0.0153, 0.0157, 0.0161, 0.0160,\n",
      "          0.0155, 0.0158]],\n",
      "\n",
      "        [[0.0154, 0.0157, 0.0157, 0.0154, 0.0161, 0.0158, 0.0161, 0.0159,\n",
      "          0.0153, 0.0150]],\n",
      "\n",
      "        [[0.0158, 0.0156, 0.0153, 0.0159, 0.0160, 0.0157, 0.0152, 0.0157,\n",
      "          0.0160, 0.0152]],\n",
      "\n",
      "        [[0.0158, 0.0161, 0.0154, 0.0161, 0.0160, 0.0157, 0.0150, 0.0154,\n",
      "          0.0161, 0.0157]],\n",
      "\n",
      "        [[0.0159, 0.0158, 0.0157, 0.0157, 0.0156, 0.0153, 0.0154, 0.0156,\n",
      "          0.0157, 0.0161]],\n",
      "\n",
      "        [[0.0161, 0.0158, 0.0161, 0.0154, 0.0159, 0.0161, 0.0154, 0.0155,\n",
      "          0.0154, 0.0155]],\n",
      "\n",
      "        [[0.0154, 0.0153, 0.0154, 0.0159, 0.0156, 0.0161, 0.0161, 0.0158,\n",
      "          0.0154, 0.0159]],\n",
      "\n",
      "        [[0.0155, 0.0157, 0.0158, 0.0154, 0.0155, 0.0159, 0.0159, 0.0155,\n",
      "          0.0156, 0.0155]],\n",
      "\n",
      "        [[0.0157, 0.0154, 0.0153, 0.0158, 0.0157, 0.0157, 0.0163, 0.0153,\n",
      "          0.0155, 0.0158]],\n",
      "\n",
      "        [[0.0164, 0.0159, 0.0158, 0.0167, 0.0160, 0.0159, 0.0154, 0.0157,\n",
      "          0.0165, 0.0156]],\n",
      "\n",
      "        [[0.0158, 0.0154, 0.0150, 0.0153, 0.0160, 0.0155, 0.0167, 0.0157,\n",
      "          0.0151, 0.0155]],\n",
      "\n",
      "        [[0.0152, 0.0160, 0.0156, 0.0151, 0.0157, 0.0159, 0.0157, 0.0160,\n",
      "          0.0152, 0.0150]],\n",
      "\n",
      "        [[0.0157, 0.0152, 0.0154, 0.0152, 0.0155, 0.0148, 0.0156, 0.0154,\n",
      "          0.0154, 0.0156]],\n",
      "\n",
      "        [[0.0163, 0.0160, 0.0159, 0.0155, 0.0157, 0.0160, 0.0153, 0.0154,\n",
      "          0.0154, 0.0155]],\n",
      "\n",
      "        [[0.0150, 0.0153, 0.0156, 0.0152, 0.0149, 0.0149, 0.0159, 0.0162,\n",
      "          0.0153, 0.0156]],\n",
      "\n",
      "        [[0.0156, 0.0155, 0.0154, 0.0157, 0.0155, 0.0154, 0.0158, 0.0156,\n",
      "          0.0155, 0.0161]],\n",
      "\n",
      "        [[0.0156, 0.0158, 0.0158, 0.0160, 0.0157, 0.0156, 0.0154, 0.0157,\n",
      "          0.0156, 0.0155]],\n",
      "\n",
      "        [[0.0159, 0.0160, 0.0155, 0.0161, 0.0159, 0.0159, 0.0151, 0.0157,\n",
      "          0.0161, 0.0156]],\n",
      "\n",
      "        [[0.0155, 0.0156, 0.0162, 0.0160, 0.0152, 0.0158, 0.0153, 0.0155,\n",
      "          0.0159, 0.0163]],\n",
      "\n",
      "        [[0.0151, 0.0158, 0.0163, 0.0154, 0.0155, 0.0157, 0.0158, 0.0155,\n",
      "          0.0158, 0.0156]],\n",
      "\n",
      "        [[0.0163, 0.0159, 0.0151, 0.0157, 0.0163, 0.0161, 0.0161, 0.0149,\n",
      "          0.0155, 0.0150]],\n",
      "\n",
      "        [[0.0158, 0.0160, 0.0155, 0.0161, 0.0159, 0.0157, 0.0151, 0.0156,\n",
      "          0.0158, 0.0157]],\n",
      "\n",
      "        [[0.0156, 0.0159, 0.0153, 0.0157, 0.0154, 0.0155, 0.0156, 0.0158,\n",
      "          0.0158, 0.0155]],\n",
      "\n",
      "        [[0.0151, 0.0153, 0.0156, 0.0151, 0.0148, 0.0152, 0.0157, 0.0156,\n",
      "          0.0152, 0.0157]],\n",
      "\n",
      "        [[0.0150, 0.0153, 0.0156, 0.0154, 0.0151, 0.0152, 0.0154, 0.0158,\n",
      "          0.0156, 0.0159]],\n",
      "\n",
      "        [[0.0156, 0.0159, 0.0158, 0.0158, 0.0156, 0.0156, 0.0153, 0.0153,\n",
      "          0.0159, 0.0157]],\n",
      "\n",
      "        [[0.0156, 0.0157, 0.0159, 0.0156, 0.0155, 0.0163, 0.0155, 0.0156,\n",
      "          0.0157, 0.0156]],\n",
      "\n",
      "        [[0.0156, 0.0156, 0.0156, 0.0157, 0.0153, 0.0154, 0.0155, 0.0154,\n",
      "          0.0158, 0.0157]],\n",
      "\n",
      "        [[0.0157, 0.0160, 0.0159, 0.0154, 0.0155, 0.0155, 0.0156, 0.0158,\n",
      "          0.0161, 0.0158]],\n",
      "\n",
      "        [[0.0157, 0.0157, 0.0157, 0.0155, 0.0157, 0.0161, 0.0156, 0.0157,\n",
      "          0.0156, 0.0152]],\n",
      "\n",
      "        [[0.0154, 0.0159, 0.0163, 0.0159, 0.0159, 0.0158, 0.0158, 0.0156,\n",
      "          0.0159, 0.0150]],\n",
      "\n",
      "        [[0.0154, 0.0154, 0.0156, 0.0154, 0.0155, 0.0155, 0.0160, 0.0162,\n",
      "          0.0154, 0.0158]],\n",
      "\n",
      "        [[0.0156, 0.0157, 0.0162, 0.0154, 0.0156, 0.0151, 0.0163, 0.0160,\n",
      "          0.0154, 0.0149]]], grad_fn=<SoftmaxBackward>)\n"
     ]
    },
    {
     "name": "stderr",
     "output_type": "stream",
     "text": [
      "/home/shruti/anaconda3/lib/python3.6/site-packages/ipykernel_launcher.py:27: UserWarning: Implicit dimension choice for softmax has been deprecated. Change the call to include dim=X as an argument.\n"
     ]
    }
   ],
   "source": [
    "# Data\n",
    "dataiter = iter(trainloader)\n",
    "images,labels = dataiter.next()\n",
    "\n",
    "# flatten the images (batch of 64)\n",
    "inputs = images.view(images.shape[0],1,-1)  # images.shape[0] = batch_size, 1 = no. of color channels\n",
    "\n",
    "# Forward pass on the inputs \n",
    "out = model.forward(inputs)\n",
    "\n",
    "print(out.shape)\n",
    "print(out)"
   ]
  },
  {
   "cell_type": "code",
   "execution_count": 8,
   "metadata": {},
   "outputs": [
    {
     "name": "stdout",
     "output_type": "stream",
     "text": [
      "torch.Size([1, 10])\n",
      "tensor([[0.1226, 0.0985, 0.0782, 0.0909, 0.0974, 0.0858, 0.0872, 0.1173, 0.1136,\n",
      "         0.1084]], grad_fn=<SoftmaxBackward>)\n"
     ]
    },
    {
     "data": {
      "image/png": "[encoded data removed]",
      "text/plain": [
       "<Figure size 432x648 with 2 Axes>"
      ]
     },
     "metadata": {
      "image/png": {
       "height": 235,
       "width": 424
      },
      "needs_background": "light"
     },
     "output_type": "display_data"
    }
   ],
   "source": [
    "images,labels = dataiter.next()\n",
    "\n",
    "images = images.view(64, 1, 784)\n",
    "\n",
    "img_idx = 0\n",
    "ps = model.forward(images[img_idx,:])\n",
    "\n",
    "print(ps.shape)\n",
    "print(ps)\n",
    "\n",
    "img = images[img_idx]\n",
    "import helper\n",
    "helper.view_classify(img.view(1, 28, 28), ps)"
   ]
  },
  {
   "cell_type": "markdown",
   "metadata": {},
   "source": [
    "The network has basically no idea what this digit is. It's because we haven't trained it yet, all the weights are random!"
   ]
  },
  {
   "cell_type": "code",
   "execution_count": null,
   "metadata": {},
   "outputs": [],
   "source": []
  },
  {
   "cell_type": "markdown",
   "metadata": {},
   "source": [
    "### Using `nn.Sequential`\n",
    "To build networks like this where a tensor is passed sequentially through operations"
   ]
  },
  {
   "cell_type": "code",
   "execution_count": 7,
   "metadata": {},
   "outputs": [
    {
     "name": "stdout",
     "output_type": "stream",
     "text": [
      "Sequential(\n",
      "  (0): Linear(in_features=784, out_features=128, bias=True)\n",
      "  (1): ReLU()\n",
      "  (2): Linear(in_features=128, out_features=64, bias=True)\n",
      "  (3): ReLU()\n",
      "  (4): Linear(in_features=64, out_features=10, bias=True)\n",
      "  (5): Softmax(dim=1)\n",
      ")\n",
      "tensor([[0.1118, 0.0983, 0.0820, 0.0884, 0.1088, 0.0845, 0.0922, 0.1117, 0.1229,\n",
      "         0.0993]], grad_fn=<SoftmaxBackward>)\n"
     ]
    },
    {
     "data": {
      "image/png": "[encoded data removed]",
      "text/plain": [
       "<Figure size 432x648 with 2 Axes>"
      ]
     },
     "metadata": {
      "image/png": {
       "height": 235,
       "width": 424
      },
      "needs_background": "light"
     },
     "output_type": "display_data"
    }
   ],
   "source": [
    "# Hyperparameters\n",
    "input_size = 784\n",
    "hidden_sizes = [128,64]\n",
    "output_size = 10\n",
    "\n",
    "\n",
    "# instantiate the sequential model \n",
    "model = nn.Sequential(nn.Linear(input_size,hidden_sizes[0]), \n",
    "                      nn.ReLU(), \n",
    "                      nn.Linear(hidden_sizes[0],hidden_sizes[1]), \n",
    "                      nn.ReLU(),\n",
    "                      nn.Linear(hidden_sizes[1],output_size), \n",
    "                      nn.Softmax(dim=1))\n",
    "\n",
    "print(model)\n",
    "\n",
    "# grab data (input images and labels)\n",
    "images, labels = next(dataiter)\n",
    "# flatten input\n",
    "images = images.view(images.shape[0],1,-1)\n",
    "\n",
    "# forward pass on 1 image\n",
    "ps = model.forward(images[0])\n",
    "print(ps)\n",
    "\n",
    "import helper\n",
    "helper.view_classify(images[0].view(1,28,28), ps)"
   ]
  },
  {
   "cell_type": "markdown",
   "metadata": {},
   "source": [
    "The operations in the sequential model can be accessed using appropriate index."
   ]
  },
  {
   "cell_type": "code",
   "execution_count": 60,
   "metadata": {},
   "outputs": [
    {
     "name": "stdout",
     "output_type": "stream",
     "text": [
      "Linear(in_features=784, out_features=128, bias=True)\n",
      "Parameter containing:\n",
      "tensor([[ 0.0256, -0.0102,  0.0301,  ...,  0.0277,  0.0250,  0.0134],\n",
      "        [-0.0086, -0.0266,  0.0337,  ..., -0.0184,  0.0091, -0.0103],\n",
      "        [ 0.0351, -0.0307, -0.0095,  ..., -0.0323,  0.0039,  0.0032],\n",
      "        ...,\n",
      "        [ 0.0057,  0.0140,  0.0104,  ...,  0.0233, -0.0235,  0.0156],\n",
      "        [-0.0190, -0.0072, -0.0231,  ..., -0.0032,  0.0351,  0.0200],\n",
      "        [ 0.0313, -0.0106, -0.0354,  ...,  0.0235, -0.0084, -0.0077]],\n",
      "       requires_grad=True)\n",
      "ReLU()\n",
      "Linear(in_features=128, out_features=64, bias=True)\n"
     ]
    }
   ],
   "source": [
    "print(model[0])\n",
    "print(model[0].weight)\n",
    "\n",
    "print(model[1])\n",
    "\n",
    "print(model[2])"
   ]
  },
  {
   "cell_type": "markdown",
   "metadata": {},
   "source": [
    "We can also use in an `OrderedDict` to pass the operations to the Sequential model"
   ]
  },
  {
   "cell_type": "code",
   "execution_count": 64,
   "metadata": {},
   "outputs": [
    {
     "name": "stdout",
     "output_type": "stream",
     "text": [
      "Sequential(\n",
      "  (fc1): Linear(in_features=784, out_features=128, bias=True)\n",
      "  (relu1): ReLU()\n",
      "  (fc2): Linear(in_features=128, out_features=64, bias=True)\n",
      "  (relu2): ReLU()\n",
      "  (fc3): Linear(in_features=64, out_features=10, bias=True)\n",
      "  (softmax): Softmax(dim=1)\n",
      ")\n"
     ]
    }
   ],
   "source": [
    "from collections import OrderedDict\n",
    "\n",
    "model = nn.Sequential(OrderedDict([\n",
    "                        ('fc1', nn.Linear(input_size,hidden_sizes[0])),\n",
    "                        ('relu1', nn.ReLU()),\n",
    "                        ('fc2', nn.Linear(hidden_sizes[0],hidden_sizes[1])),\n",
    "                        ('relu2', nn.ReLU()),\n",
    "                        ('fc3', nn.Linear(hidden_sizes[1],output_size)),\n",
    "                        ('softmax', nn.Softmax(dim=1))]))\n",
    "\n",
    "print(model)"
   ]
  },
  {
   "cell_type": "markdown",
   "metadata": {},
   "source": [
    "Now, we can access the layers and operations by integer or name"
   ]
  },
  {
   "cell_type": "code",
   "execution_count": 66,
   "metadata": {},
   "outputs": [
    {
     "name": "stdout",
     "output_type": "stream",
     "text": [
      "Linear(in_features=784, out_features=128, bias=True)\n",
      "Linear(in_features=784, out_features=128, bias=True)\n"
     ]
    }
   ],
   "source": [
    "print(model[0])\n",
    "print(model.fc1)"
   ]
  },
  {
   "cell_type": "code",
   "execution_count": null,
   "metadata": {},
   "outputs": [],
   "source": []
  }
 ],
 "metadata": {
  "kernelspec": {
   "display_name": "Python 3",
   "language": "python",
   "name": "python3"
  },
  "language_info": {
   "codemirror_mode": {
    "name": "ipython",
    "version": 3
   },
   "file_extension": ".py",
   "mimetype": "text/x-python",
   "name": "python",
   "nbconvert_exporter": "python",
   "pygments_lexer": "ipython3",
   "version": "3.6.9"
  }
 },
 "nbformat": 4,
 "nbformat_minor": 2
}
