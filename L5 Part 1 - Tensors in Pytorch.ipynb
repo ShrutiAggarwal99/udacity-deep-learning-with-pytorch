{
 "cells": [
  {
   "cell_type": "markdown",
   "metadata": {},
   "source": [
    "# Building a Simple Neural Network ( _using tensors and its operations_ )"
   ]
  },
  {
   "cell_type": "code",
   "execution_count": 1,
   "metadata": {},
   "outputs": [],
   "source": [
    "import torch"
   ]
  },
  {
   "cell_type": "code",
   "execution_count": 2,
   "metadata": {},
   "outputs": [],
   "source": [
    "def activation(x):\n",
    "    return 1/(1+torch.exp(-x))"
   ]
  },
  {
   "cell_type": "code",
   "execution_count": 43,
   "metadata": {},
   "outputs": [],
   "source": [
    "torch.manual_seed(7)\n",
    "features = torch.randn(1,5)\n",
    "weights = torch.randn_like(features)\n",
    "bias = torch.randn(1,1)"
   ]
  },
  {
   "cell_type": "code",
   "execution_count": 44,
   "metadata": {},
   "outputs": [
    {
     "name": "stdout",
     "output_type": "stream",
     "text": [
      "tensor([[0.1595]])\n",
      "tensor([[0.1595]])\n"
     ]
    }
   ],
   "source": [
    "# Output using element wise multiplication of tensors\n",
    "y = (features*weights).sum()+bias\n",
    "y = activation(y)\n",
    "print(y)\n",
    "\n",
    "y = torch.sum(features*weights)+bias\n",
    "y = activation(y)\n",
    "print(y)"
   ]
  },
  {
   "cell_type": "code",
   "execution_count": 45,
   "metadata": {},
   "outputs": [
    {
     "name": "stdout",
     "output_type": "stream",
     "text": [
      "tensor([[0.1595]])\n"
     ]
    }
   ],
   "source": [
    "# Output using Matrix Multiplication of tensors\n",
    "weights = weights.view(5,1)\n",
    "\n",
    "# Now features : (1,5) and weights : (5,1)\n",
    "# output of torch.matmul(features,weights) : (1,1)\n",
    "y = torch.matmul(features,weights)+bias\n",
    "y = activation(y)\n",
    "\n",
    "print(y)"
   ]
  },
  {
   "cell_type": "markdown",
   "metadata": {},
   "source": [
    "# Tensors and Storage"
   ]
  },
  {
   "cell_type": "code",
   "execution_count": 41,
   "metadata": {},
   "outputs": [],
   "source": [
    "# A tensor is a view of it's 1-D storage\n",
    "# Has storage_offset, shape(size) and stride properties"
   ]
  },
  {
   "cell_type": "code",
   "execution_count": 25,
   "metadata": {},
   "outputs": [
    {
     "name": "stdout",
     "output_type": "stream",
     "text": [
      "tensor([[1, 2],\n",
      "        [3, 4],\n",
      "        [5, 6]])\n",
      "Storage Offset : 0\n",
      "Shape : torch.Size([3, 2])\n",
      "Stride : (2, 1)\n",
      "Storage :\n",
      "  1\n",
      " 2\n",
      " 3\n",
      " 4\n",
      " 5\n",
      " 6\n",
      "[torch.LongStorage of size 6]\n"
     ]
    }
   ],
   "source": [
    "points = torch.tensor([[1,2],[3,4],[5,6]])\n",
    "print(points)\n",
    "print(\"Storage Offset :\", points.storage_offset())\n",
    "print(\"Shape :\", points.shape)\n",
    "print(\"Stride :\", points.stride())\n",
    "print(\"Storage :\\n\", points.storage())"
   ]
  },
  {
   "cell_type": "code",
   "execution_count": 27,
   "metadata": {},
   "outputs": [
    {
     "name": "stdout",
     "output_type": "stream",
     "text": [
      "tensor([[1, 3, 5],\n",
      "        [2, 4, 6]])\n",
      "Storage Offset : 0\n",
      "Shape : torch.Size([2, 3])\n",
      "Stride : (1, 2)\n",
      "Storage :\n",
      "  1\n",
      " 2\n",
      " 3\n",
      " 4\n",
      " 5\n",
      " 6\n",
      "[torch.LongStorage of size 6]\n"
     ]
    }
   ],
   "source": [
    "points_t = points.transpose(0,1) # or points.t() or points.transpose()\n",
    "print(points_t)\n",
    "print(\"Storage Offset :\", points_t.storage_offset())\n",
    "print(\"Shape :\", points_t.shape)\n",
    "print(\"Stride :\", points_t.stride())\n",
    "print(\"Storage :\\n\", points_t.storage())\n",
    "\n",
    "# Stride of the tensor and it's transpose - get reversed (of the dimensions along which the transpose is applied)"
   ]
  },
  {
   "cell_type": "code",
   "execution_count": 28,
   "metadata": {},
   "outputs": [],
   "source": [
    "# A tensor, it's transpose, it's subtensor : all refer to the same storage"
   ]
  },
  {
   "cell_type": "code",
   "execution_count": 31,
   "metadata": {},
   "outputs": [
    {
     "name": "stdout",
     "output_type": "stream",
     "text": [
      "True\n",
      "False\n"
     ]
    }
   ],
   "source": [
    "print(points.is_contiguous())   \n",
    "print(points_t.is_contiguous())   # Since stride of the rightmost dimension is not 1"
   ]
  },
  {
   "cell_type": "code",
   "execution_count": 38,
   "metadata": {
    "scrolled": true
   },
   "outputs": [
    {
     "name": "stdout",
     "output_type": "stream",
     "text": [
      "tensor([[1, 3, 5],\n",
      "        [2, 4, 6]])\n",
      "Storage Offset : 0\n",
      "Shape : torch.Size([2, 3])\n",
      "Stride : (3, 1)\n",
      "Storage :\n",
      "  1\n",
      " 3\n",
      " 5\n",
      " 2\n",
      " 4\n",
      " 6\n",
      "[torch.LongStorage of size 6]\n",
      "True\n"
     ]
    }
   ],
   "source": [
    "# To get a contiguous tensor from a non-contiguous tensor (happens by reshuffling the original storage)\n",
    "points_t_cont = points_t.contiguous()\n",
    "print(points_t_cont)\n",
    "print(\"Storage Offset :\", points_t_cont.storage_offset())\n",
    "print(\"Shape :\", points_t_cont.shape)\n",
    "print(\"Stride :\", points_t_cont.stride())  # Different from points_t tensor (since the storage is reshuffled)\n",
    "print(\"Storage :\\n\", points_t_cont.storage())\n",
    "print(id(points_t_cont.storage()) == id(points_t.storage()))  # Reshuffles the same storage"
   ]
  },
  {
   "cell_type": "code",
   "execution_count": 40,
   "metadata": {},
   "outputs": [
    {
     "name": "stdout",
     "output_type": "stream",
     "text": [
      "False\n",
      "(1, 2)\n"
     ]
    }
   ],
   "source": [
    "print(points_t.is_contiguous())  # Now this becomes non-contiguous\n",
    "print(points_t.stride())"
   ]
  },
  {
   "cell_type": "markdown",
   "metadata": {},
   "source": [
    "# Larger Neural Network (1 hidden layer)"
   ]
  },
  {
   "cell_type": "code",
   "execution_count": 46,
   "metadata": {},
   "outputs": [
    {
     "data": {
      "text/plain": [
       "<torch._C.Generator at 0x7fad90083870>"
      ]
     },
     "execution_count": 46,
     "metadata": {},
     "output_type": "execute_result"
    }
   ],
   "source": [
    "torch.manual_seed(7)"
   ]
  },
  {
   "cell_type": "code",
   "execution_count": 47,
   "metadata": {},
   "outputs": [],
   "source": [
    "features = torch.randn(1,3)"
   ]
  },
  {
   "cell_type": "code",
   "execution_count": 48,
   "metadata": {},
   "outputs": [],
   "source": [
    "n_input = features.shape[1]    # number of input units\n",
    "n_hidden = 2    # number of hidden units (1st and the only hidden layer here)\n",
    "n_output = 1    # number of output units"
   ]
  },
  {
   "cell_type": "code",
   "execution_count": 49,
   "metadata": {},
   "outputs": [],
   "source": [
    "W1 = torch.randn(n_input, n_hidden)    # weights for layer 0 (input) to layer 1 (hidden) : stacked horizontally \n",
    "W2 = torch.randn(n_hidden, n_output)   # weights for layer 1 (hidden) to layer 2 (output)\n",
    "\n",
    "B1 = torch.randn(1,n_hidden)   # bias for hidden units : stacked horizontally\n",
    "B2 = torch.randn(1,n_output)   # bias for output units"
   ]
  },
  {
   "cell_type": "raw",
   "metadata": {},
   "source": [
    "features : [x1, x2, x3]\n",
    "(no. of input units = 3)\n",
    "\n",
    "\n",
    "W1 : [[ w11  w12\n",
    "        w21  w22\n",
    "        w31  w23 ]]\n",
    "(no. of hidden units = 2 = no. of columns)\n",
    "Each column : Weights to a hidden unit from the input layer \n",
    "shape = (no. of input units, no. of hidden units)\n",
    "\n",
    "\n",
    "B1 : [[ b1 b2 ]]\n",
    "(bias for each hidden unit stacked horizontally, no. of hidden units = 2)\n"
   ]
  },
  {
   "cell_type": "code",
   "execution_count": 52,
   "metadata": {},
   "outputs": [],
   "source": [
    "a1 = torch.matmul(features,W1) + B1\n",
    "a1 = activation(a1)"
   ]
  },
  {
   "cell_type": "code",
   "execution_count": 53,
   "metadata": {},
   "outputs": [],
   "source": [
    "a2 = torch.matmul(a1,W2) + B2\n",
    "a2 = activation(a2)"
   ]
  },
  {
   "cell_type": "code",
   "execution_count": 54,
   "metadata": {},
   "outputs": [
    {
     "name": "stdout",
     "output_type": "stream",
     "text": [
      "Output of this multi-layer network : tensor([[0.3171]])\n"
     ]
    }
   ],
   "source": [
    "print(\"Output of this multi-layer network :\", a2)"
   ]
  },
  {
   "cell_type": "code",
   "execution_count": null,
   "metadata": {},
   "outputs": [],
   "source": []
  }
 ],
 "metadata": {
  "kernelspec": {
   "display_name": "Python 3",
   "language": "python",
   "name": "python3"
  },
  "language_info": {
   "codemirror_mode": {
    "name": "ipython",
    "version": 3
   },
   "file_extension": ".py",
   "mimetype": "text/x-python",
   "name": "python",
   "nbconvert_exporter": "python",
   "pygments_lexer": "ipython3",
   "version": "3.6.9"
  }
 },
 "nbformat": 4,
 "nbformat_minor": 2
}
