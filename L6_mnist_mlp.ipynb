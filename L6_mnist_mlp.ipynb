{
  "nbformat": 4,
  "nbformat_minor": 0,
  "metadata": {
    "colab": {
      "name": "L6 mnist_mlp.ipynb",
      "provenance": [],
      "collapsed_sections": [],
      "include_colab_link": true
    },
    "kernelspec": {
      "name": "python3",
      "display_name": "Python 3"
    },
    "accelerator": "GPU"
  },
  "cells": [
    {
      "cell_type": "markdown",
      "metadata": {
        "id": "view-in-github",
        "colab_type": "text"
      },
      "source": [
        "<a href=\"https://colab.research.google.com/github/ShrutiAggarwal99/udacity-deep-learning-with-pytorch/blob/master/L6_mnist_mlp.ipynb\" target=\"_parent\"><img src=\"https://colab.research.google.com/assets/colab-badge.svg\" alt=\"Open In Colab\"/></a>"
      ]
    },
    {
      "cell_type": "code",
      "metadata": {
        "id": "KNhcTl6JNPYQ",
        "colab_type": "code",
        "colab": {}
      },
      "source": [
        "import torch\n",
        "from torchvision import datasets, transforms"
      ],
      "execution_count": 0,
      "outputs": []
    },
    {
      "cell_type": "code",
      "metadata": {
        "id": "uiXf1-uDK0zS",
        "colab_type": "code",
        "colab": {}
      },
      "source": [
        "# MNIST data\n",
        "\n",
        "train_data = datasets.MNIST(root='data',train=True,download=True, transform=transforms.ToTensor())\n",
        "test_data = datasets.MNIST(root='data',train=False,download=True, transform=transforms.ToTensor())\n",
        "\n",
        "trainloader = torch.utils.data.DataLoader(dataset=train_data, batch_size=64, shuffle=True)\n",
        "testloader = torch.utils.data.DataLoader(dataset=test_data, batch_size=64, shuffle=True)"
      ],
      "execution_count": 0,
      "outputs": []
    },
    {
      "cell_type": "code",
      "metadata": {
        "id": "wCrMrYM8NMFe",
        "colab_type": "code",
        "colab": {}
      },
      "source": [
        "import numpy\n",
        "import matplotlib.pyplot as plt\n",
        "%matplotlib inline"
      ],
      "execution_count": 0,
      "outputs": []
    },
    {
      "cell_type": "code",
      "metadata": {
        "id": "ivl19eDQLTPW",
        "colab_type": "code",
        "colab": {
          "base_uri": "https://localhost:8080/",
          "height": 371
        },
        "outputId": "12ea186a-c0d6-4813-e70f-912a3b7ff31d"
      },
      "source": [
        "# visulation/analysis of data\n",
        "\n",
        "images, labels = next(iter(trainloader))\n",
        "\n",
        "images, labels = images.numpy(), labels.numpy()\n",
        "\n",
        "fig = plt.figure(figsize=(25,5))\n",
        "\n",
        "for idx in range(20):\n",
        "  ax = fig.add_subplot(2,10,idx+1,xticks=[],yticks=[])\n",
        "  ax.imshow(images[idx].squeeze(), cmap='gray')\n",
        "  ax.set_title(labels[idx])\n",
        "\n",
        "print(images.shape)\n",
        "print(labels.shape)\n"
      ],
      "execution_count": 7,
      "outputs": [
        {
          "output_type": "stream",
          "text": [
            "(64, 1, 28, 28)\n",
            "(64,)\n"
          ],
          "name": "stdout"
        },
        {
          "output_type": "display_data",
          "data": {
            "image/png": "[encoded data removed]",
            "text/plain": [
              "<Figure size 1800x360 with 20 Axes>"
            ]
          },
          "metadata": {
            "tags": []
          }
        }
      ]
    },
    {
      "cell_type": "code",
      "metadata": {
        "id": "Pqp4Q29ZPz97",
        "colab_type": "code",
        "colab": {}
      },
      "source": [
        "from torch import nn,optim\n",
        "import torch.nn.functional as F"
      ],
      "execution_count": 0,
      "outputs": []
    },
    {
      "cell_type": "code",
      "metadata": {
        "id": "6ntLDEHeOD-l",
        "colab_type": "code",
        "colab": {
          "base_uri": "https://localhost:8080/",
          "height": 119
        },
        "outputId": "8bcf7368-bf60-45a7-b0fa-2fb395746271"
      },
      "source": [
        "# Network Architecture (Decide through research)\n",
        "\n",
        "class Network(nn.Module):\n",
        "  def __init__(self):\n",
        "    super().__init__()\n",
        "    self.fc1 = nn.Linear(28*28,512)\n",
        "    self.fc2 = nn.Linear(512,512)\n",
        "    self.fc3 = nn.Linear(512,10)\n",
        "    self.dropout = nn.Dropout(p=0.2)\n",
        "\n",
        "  def forward(self,x):\n",
        "    x = x.view(x.shape[0],-1)\n",
        "    x = self.dropout(F.relu(self.fc1(x)))\n",
        "    x = self.dropout(F.relu(self.fc2(x)))\n",
        "    x = F.log_softmax(self.fc3(x),dim=1)\n",
        "\n",
        "    return x\n",
        "\n",
        "# Initialise the NN\n",
        "classifier = Network()\n",
        "print(classifier)"
      ],
      "execution_count": 9,
      "outputs": [
        {
          "output_type": "stream",
          "text": [
            "Network(\n",
            "  (fc1): Linear(in_features=784, out_features=500, bias=True)\n",
            "  (fc2): Linear(in_features=500, out_features=500, bias=True)\n",
            "  (fc3): Linear(in_features=500, out_features=10, bias=True)\n",
            "  (dropout): Dropout(p=0.2, inplace=False)\n",
            ")\n"
          ],
          "name": "stdout"
        }
      ]
    },
    {
      "cell_type": "code",
      "metadata": {
        "id": "XIp30pttRI5a",
        "colab_type": "code",
        "colab": {
          "base_uri": "https://localhost:8080/",
          "height": 34
        },
        "outputId": "a2b5a347-10c6-4910-f081-363f5ec3b7b9"
      },
      "source": [
        "device = torch.device('cuda' if torch.cuda.is_available() else 'cpu')\n",
        "classifier = classifier.to(device)\n",
        "\n",
        "print(next(classifier.parameters()).is_cuda)"
      ],
      "execution_count": 10,
      "outputs": [
        {
          "output_type": "stream",
          "text": [
            "True\n"
          ],
          "name": "stdout"
        }
      ]
    },
    {
      "cell_type": "code",
      "metadata": {
        "id": "HL08pIAWP7qP",
        "colab_type": "code",
        "colab": {}
      },
      "source": [
        "# Loss and Optimizer\n",
        "\n",
        "criterion = nn.NLLLoss()\n",
        "\n",
        "optimizer = optim.Adam(classifier.parameters(), lr=0.003)"
      ],
      "execution_count": 0,
      "outputs": []
    },
    {
      "cell_type": "code",
      "metadata": {
        "id": "GalerN3YQK03",
        "colab_type": "code",
        "colab": {
          "base_uri": "https://localhost:8080/",
          "height": 357
        },
        "outputId": "53f21f4e-f32f-47cb-fe8c-526e8065173f"
      },
      "source": [
        "# Train the NN\n",
        "\n",
        "epochs = 20\n",
        "\n",
        "for e in range(epochs):\n",
        "  train_loss = 0\n",
        "  classifier.train()\n",
        "\n",
        "  for images, labels in trainloader:\n",
        "    images, labels = images.to(device), labels.to(device)\n",
        "\n",
        "    optimizer.zero_grad()\n",
        "    log_ps = classifier(images)\n",
        "    loss = criterion(log_ps,labels)\n",
        "    train_loss += loss.item()\n",
        "    loss.backward()\n",
        "    optimizer.step()\n",
        "\n",
        "  else:\n",
        "    with torch.no_grad():\n",
        "      classifier.eval()\n",
        "      test_loss = 0\n",
        "      accuracy = 0\n",
        "\n",
        "      for images, labels in testloader:\n",
        "        images, labels = images.to(device), labels.to(device)\n",
        "        log_ps = classifier(images)\n",
        "        test_loss += criterion(log_ps, labels).item()\n",
        "\n",
        "        ps = torch.exp(log_ps)\n",
        "        top_p, top_class = ps.topk(k=1, dim=1)\n",
        "        equals = top_class == labels.view(*top_class.shape)\n",
        "        accuracy += torch.mean(equals.type(torch.FloatTensor))\n",
        "\n",
        "      classifier.train()\n",
        "\n",
        "  print(\"Epoch: \", e+1,\n",
        "        \"Training Loss:\", train_loss/len(trainloader),\n",
        "        \"Validation Loss:\", test_loss/len(testloader),\n",
        "        \"Accuracy:\", accuracy/len(testloader))"
      ],
      "execution_count": 15,
      "outputs": [
        {
          "output_type": "stream",
          "text": [
            "Epoch:  1 Training Loss: 0.08035206833063985 Validation Loss: 0.09585696272552013 Accuracy: tensor(0.9779)\n",
            "Epoch:  2 Training Loss: 0.08394184508529712 Validation Loss: 0.11623146645962053 Accuracy: tensor(0.9733)\n",
            "Epoch:  3 Training Loss: 0.07356818472899036 Validation Loss: 0.10300800774934565 Accuracy: tensor(0.9780)\n",
            "Epoch:  4 Training Loss: 0.0752626207919279 Validation Loss: 0.11082686485046414 Accuracy: tensor(0.9769)\n",
            "Epoch:  5 Training Loss: 0.06932952336277932 Validation Loss: 0.12293348080555724 Accuracy: tensor(0.9767)\n",
            "Epoch:  6 Training Loss: 0.07101160368876162 Validation Loss: 0.1369785208041501 Accuracy: tensor(0.9747)\n",
            "Epoch:  7 Training Loss: 0.07561769076178211 Validation Loss: 0.09634522085261953 Accuracy: tensor(0.9777)\n",
            "Epoch:  8 Training Loss: 0.06527451888125922 Validation Loss: 0.11703853266444175 Accuracy: tensor(0.9789)\n",
            "Epoch:  9 Training Loss: 0.0668873475459434 Validation Loss: 0.11929598047285322 Accuracy: tensor(0.9770)\n",
            "Epoch:  10 Training Loss: 0.06246804638203782 Validation Loss: 0.15224895625713336 Accuracy: tensor(0.9767)\n",
            "Epoch:  11 Training Loss: 0.06463834039146092 Validation Loss: 0.14947747376860138 Accuracy: tensor(0.9768)\n",
            "Epoch:  12 Training Loss: 0.0774031219222565 Validation Loss: 0.11691236330469133 Accuracy: tensor(0.9779)\n",
            "Epoch:  13 Training Loss: 0.05869354324257458 Validation Loss: 0.11777652254933195 Accuracy: tensor(0.9794)\n",
            "Epoch:  14 Training Loss: 0.0674827716212525 Validation Loss: 0.16454203568612505 Accuracy: tensor(0.9788)\n",
            "Epoch:  15 Training Loss: 0.05877024595832218 Validation Loss: 0.1386383573352626 Accuracy: tensor(0.9791)\n",
            "Epoch:  16 Training Loss: 0.05629324906620819 Validation Loss: 0.17555474260359244 Accuracy: tensor(0.9784)\n",
            "Epoch:  17 Training Loss: 0.06447142201847136 Validation Loss: 0.20042257092205013 Accuracy: tensor(0.9760)\n",
            "Epoch:  18 Training Loss: 0.06823017805425534 Validation Loss: 0.16649666255351844 Accuracy: tensor(0.9787)\n",
            "Epoch:  19 Training Loss: 0.06549990219265116 Validation Loss: 0.1404656806877654 Accuracy: tensor(0.9793)\n",
            "Epoch:  20 Training Loss: 0.06526885330672068 Validation Loss: 0.17675459174035935 Accuracy: tensor(0.9770)\n"
          ],
          "name": "stdout"
        }
      ]
    },
    {
      "cell_type": "code",
      "metadata": {
        "id": "dfLU-1edULZE",
        "colab_type": "code",
        "colab": {}
      },
      "source": [
        ""
      ],
      "execution_count": 0,
      "outputs": []
    }
  ]
}